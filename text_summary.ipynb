{
 "cells": [
  {
   "cell_type": "markdown",
   "metadata": {},
   "source": [
    "# PDF download"
   ]
  },
  {
   "cell_type": "code",
   "execution_count": 9,
   "metadata": {},
   "outputs": [
    {
     "name": "stderr",
     "output_type": "stream",
     "text": [
      "PdfReadWarning: Xref table not zero-indexed. ID numbers for objects will be corrected. [pdf.py:1736]\n"
     ]
    }
   ],
   "source": [
    "from urllib.request import Request, urlopen\n",
    "from PyPDF2 import PdfFileWriter, PdfFileReader\n",
    "from io import StringIO, BytesIO\n",
    "\n",
    "url = \"https://www.researchgate.net/profile/Susheela_Singh/publication/12604483_Adolescent_Pregnancy_and_Childbearing_Levels_and_Trends_in_Developed_Countries/links/0deec525dac39df03a000000/Adolescent-Pregnancy-and-Childbearing-Levels-and-Trends-in-Developed-Countries.pdf\"\n",
    "writer = PdfFileWriter()\n",
    "\n",
    "remoteFile = urlopen(Request(url)).read()\n",
    "memoryFile = BytesIO(remoteFile)\n",
    "pdfFile = PdfFileReader(memoryFile)\n",
    "\n",
    "for pageNum in range(pdfFile.getNumPages()):\n",
    "        currentPage = pdfFile.getPage(pageNum)\n",
    "        writer.addPage(currentPage)\n",
    "\n",
    "outputStream = open(\"output.pdf\",\"wb\")\n",
    "writer.write(outputStream)\n",
    "outputStream.close()"
   ]
  },
  {
   "cell_type": "markdown",
   "metadata": {},
   "source": [
    "# PDF loading"
   ]
  },
  {
   "cell_type": "code",
   "execution_count": 28,
   "metadata": {},
   "outputs": [],
   "source": [
    "import PyPDF2 \n",
    "import textract\n",
    "\n",
    "pdfFileObj = open('output.pdf','rb')\n",
    "pdfReader = PyPDF2.PdfFileReader(pdfFileObj)\n",
    "\n",
    "pageObj = pdfReader.getPage(0)\n",
    "text = pageObj.extractText()\n"
   ]
  },
  {
   "cell_type": "code",
   "execution_count": 38,
   "metadata": {},
   "outputs": [
    {
     "data": {
      "text/plain": [
       "'14About 20 years have elapsed since thosestudies were done. During this period,  many changes that might inßuence teenage reproductive behavior and how it is  viewed have taken place within the industrialized world. The proportion of  births to unmarried women has risen,2andnonmarital childbearing is more accept able, both among adolescents and among women older than 20. Access to contraception and abortion in developed coun tries has improved, despite setbacks in  some countries.3Additionally, attention to sexuality education (from both conserva tive and liberal perspectives) has increased. 4The radical transformations in thepolitical structures of the countries of east ern Europe have affected their economies  and their youthsÕ prospects and repro ductive behaviors, as well as their health care systems. 5SigniÞcant changes have alsooccurred in the systems of health care cov erage in other developed countries. 6Susheela Singh is director of research and Jacqueline E. Darroch is senior vice president and vice president for  research at The Alan Guttmacher Institute, New York.  The authors thank Kathleen Berentsen, Yvette Cuca, Tay lor Haas and Vanessa Woog for research assistance. We  are also grateful to Nathalie Bajos, Beth Fredrick, Jennifer  Frost, Stanley Henshaw, Sara Seims and Julien Teitler for  comments on drafts of the article. This article was supported by a grant from the Ford Foundation. Adolescent Pregnancy and Childbearing: Levels and Trends in Developed Countries By Susheela Singh and Jacqueline E. DarrochStudies of teenage childbearing in de-veloped countries showed differ ences in levels, as well as wide vari-ation in trends, during the 1970s. 1At thattime, the adolescent birthrate in the United States was among the highest; it was lowest in Japan and was quite low in several European countriesÑthe Nether lands, Switzerland, Sweden, Denmark and Finland. Compared with other de veloped countries, the United States had an especially high birthrate for adolescents under 18 years old. In addition, the high national teenage pregnancy rate in the  United States was not due simply to the high rate among black adolescents; the rate among white teenagers was also one of the highest among the developed countries. From among the small number of  countries for which abortion information was available, the United States also stood out as having one of the highest adolescent abortion rates.This article examines levels of adoles-cent childbearing, abortion and pregnan cy in developed countries in the mid1990s, as well as trends over recent  decades. Some of the same data limitations that restricted earlier studies of ado lescent pregnancy and childbearing still  exist. Age-speciÞc information on abortion is available for far fewer countries  than are data on births, thereby limiting  what can be said about adolescent preg nancy and abortion. Also, analyses of differences between younger and older teen agers are limited because birth and  abortion data for speciÞc adolescent age groups are available for fewer countries. DeÞnitions, terminology and groupings of countries according to level of develop ment vary across sources. In this article, we  adopted the United Nations system to clas sify countries as developed. (We mainly use  the term developed, although occasional ly we use alternatives, such as industrial ized or more developed.) Australia, Cana da, Japan, New Zealand, the United States and all countries in Europe are included  here as developed countries. We analyze  behavior in the large number of newly in dependent countries in the current time pe riod; for analyses of past trends, however,  we include original countries whenever  possible. In agreement with the classiÞca tion system used by the United Nations, some newly independent countries that  were part of the former Soviet Union (the  central Asian republics) are not included  here as developed countries. Data Sources Birth Statistics In most cases, we obtained birth data for the period 1970 to the mid-1990s from the coun triesÕ own published vital statistics reports,  from unpublished government data pro vided by special request and from interna tional publications.7Although most devel-Family Planning PerspectivesContext:  Adolescent pregnancy occurs in all societies, but the level of teenage pregnancy and childbearing varies from country to country. A cross-country analysis of birth and abortion mea sures is valuable for understanding trends, for identifying countries that are exceptional and for  seeing where further in-depth studies are needed to understand observed patterns. Methods:Birth, abortion and population data were obtained from various sources, such as national vital statistics reports, ofÞcial statistics, published national and international sources, and  government statistical ofÞces. Trend data on adolescent birthrates were compiled for 46 coun tries over the period 1970Ð1995. Abortion rates for a recent year were available for 33 of the 46  countries, and data on trends in abortion rates could be gathered for 25 of the 46 countries. Results:The level of adolescent pregnancy varies by a factor of almost 10 across the developed countries, from a very low rate in the Netherlands (12 pregnancies per 1,000 adolescents  per year) to an extremely high rate in the Russian Federation (more than 100 per 1,000). Japan  and most western European countries have very low or low pregnancy rates (under 40 per 1,000);  moderate rates (40Ð69 per 1,000) occur in Australia, Canada, New Zealand and a number of  European countries. A group of Þve countriesÑBelarus, Bulgaria, Romania, the Russian Fed eration and the United StatesÑhave pregnancy rates of 70 or more per 1,000. The adolescent  birthrate has declined in the majority of industrialized countries over the past 25 years, and in  some cases has been more than halved. Similarly, pregnancy rates in 12 of the 18 countries  with accurate abortion reporting showed declines. Decreases in the adolescent abortion rate,  however, were less prevalent. Conclusions: The trend toward lower adolescent birthrates and pregnancy rates over the past 25 years is widespread and is occurring across the industrialized world, suggesting that the rea sons for this general trend are broader than factors limited to any one country: increased im portance of education, increased motivation of young people to achieve higher levels of edu cation and training, and greater centrality of goals other than motherhood and family formation  for young women.  Family Planning Perspectives, 2000, 32(1):14Ð23'"
      ]
     },
     "execution_count": 38,
     "metadata": {},
     "output_type": "execute_result"
    }
   ],
   "source": [
    "text = text.replace('\\n','')\n",
    "text = text.replace('- ','')\n",
    "text"
   ]
  },
  {
   "cell_type": "markdown",
   "metadata": {},
   "source": [
    "# Text Summary"
   ]
  },
  {
   "cell_type": "code",
   "execution_count": 39,
   "metadata": {},
   "outputs": [
    {
     "name": "stdout",
     "output_type": "stream",
     "text": [
      "From among the small number of  countries for which abortion information was available, the United States also stood out as having one of the highest adolescent abortion rates.This article examines levels of adoles-cent childbearing, abortion and pregnan cy in developed countries in the mid1990s, as well as trends over recent  decades.\n",
      "Data Sources Birth Statistics In most cases, we obtained birth data for the period 1970 to the mid-1990s from the coun triesÕ own published vital statistics reports,  from unpublished government data pro vided by special request and from interna tional publications.7Although most devel-Family Planning PerspectivesContext:  Adolescent pregnancy occurs in all societies, but the level of teenage pregnancy and childbearing varies from country to country.\n"
     ]
    }
   ],
   "source": [
    "from gensim.summarization.summarizer import summarize \n",
    "from gensim.summarization import keywords \n",
    "\n",
    "summ_words = summarize(text, word_count = 100) \n",
    "print(summ_words) "
   ]
  },
  {
   "cell_type": "code",
   "execution_count": 40,
   "metadata": {},
   "outputs": [
    {
     "name": "stdout",
     "output_type": "stream",
     "text": [
      "Adolescent Pregnancy and Childbearing: Levels and Trends in Developed Countries By Susheela Singh and Jacqueline E.\n",
      "From among the small number of  countries for which abortion information was available, the United States also stood out as having one of the highest adolescent abortion rates.This article examines levels of adoles-cent childbearing, abortion and pregnan cy in developed countries in the mid1990s, as well as trends over recent  decades.\n",
      "Data Sources Birth Statistics In most cases, we obtained birth data for the period 1970 to the mid-1990s from the coun triesÕ own published vital statistics reports,  from unpublished government data pro vided by special request and from interna tional publications.7Although most devel-Family Planning PerspectivesContext:  Adolescent pregnancy occurs in all societies, but the level of teenage pregnancy and childbearing varies from country to country.\n"
     ]
    }
   ],
   "source": [
    "from summa import summarizer\n",
    "print(summarizer.summarize(text, words = 100))"
   ]
  },
  {
   "cell_type": "markdown",
   "metadata": {},
   "source": [
    "# Text summary in Polish"
   ]
  },
  {
   "cell_type": "code",
   "execution_count": 41,
   "metadata": {},
   "outputs": [],
   "source": [
    "text_polish = \"\"\" Na pytanie: “Czy zgadza się Pani/Pan ze stwierdzeniem, że nie powinno się mówić dzieciom o seksie, bo to demoralizuje dzieci?” – jedynie 19 procent badanych odpowiedziało twierdząco, natomiast 74 procent pytanych Polaków nie zgodziło się z tym.\n",
    "W jakim zakresie edukować dzieci i młodzież seksualnie, jakie mogą być tego skutki, kiedy zacząć i kto powinien się tym zająć – to niektóre z przyczyn kontrowersji wprowadzania w miastach karty LGBT+. Jak wynika z badań Fundacji Centrum Badania Opinii Społecznej niewielu Polaków jest zdania, że edukację seksualną należy rozpoczynać już w wieku przedszkolnym czy wczesnoszkolnym (tzn. w klasach 1 – 3 szkoły podstawowej). To jedynie 3 – 4 % ankietowanych. Większość badanych uważa, że dzieci powinny się zapoznawać z seksualnością człowieka między 10 a 14 rokiem życia.\n",
    "Jak wynika z danych badania CBOS „Opinie o warszawskiej karcie LGBT+ i edukacji seksualnej w szkołach”: „wśród ludzi najmłodszych (18 – 24 lata) na przestrzeni kilkudziesięciu lat w zakresie edukacji seksualnej wzrosła rola rodziców ( to 60%) i przede wszystkim szkoły (62%). Niemal co dziesiąty młody Polak przyznaje się do „edukowania” za pomocą pornografii”.\n",
    "Najwięcej pytanych zadeklarowało, że swoją wiedzę na temat seksu uzyskało od rodziców (49 proc.), a 43 % stwierdziło, że ze szkoły. Natomiast 39 % odpowiedziało, że od rówieśników lub znajomych. Wyniki te są jednak zróżnicowane pokoleniowo. Dane pokazują, jak na przestrzeni kilkudziesięciu lat w zakresie edukacji seksualnej wzrosła rola rodziców i przede wszystkim szkoły.  \"\"\""
   ]
  },
  {
   "cell_type": "code",
   "execution_count": 43,
   "metadata": {},
   "outputs": [
    {
     "data": {
      "text/plain": [
       "'Większość badanych uważa, że dzieci powinny się zapoznawać z seksualnością człowieka między 10 a 14 rokiem życia.Jak wynika z danych badania CBOS „Opinie o warszawskiej karcie LGBT+ i edukacji seksualnej w szkołach”: „wśród ludzi najmłodszych (18 – 24 lata) na przestrzeni kilkudziesięciu lat w zakresie edukacji seksualnej wzrosła rola rodziców ( to 60%) i przede wszystkim szkoły (62%).'"
      ]
     },
     "execution_count": 43,
     "metadata": {},
     "output_type": "execute_result"
    }
   ],
   "source": [
    "summarizer.summarize(text_polish.replace('\\n',''), language='polish')"
   ]
  },
  {
   "cell_type": "code",
   "execution_count": null,
   "metadata": {},
   "outputs": [],
   "source": []
  }
 ],
 "metadata": {
  "kernelspec": {
   "display_name": "Python 3",
   "language": "python",
   "name": "python3"
  },
  "language_info": {
   "codemirror_mode": {
    "name": "ipython",
    "version": 3
   },
   "file_extension": ".py",
   "mimetype": "text/x-python",
   "name": "python",
   "nbconvert_exporter": "python",
   "pygments_lexer": "ipython3",
   "version": "3.7.3"
  }
 },
 "nbformat": 4,
 "nbformat_minor": 2
}
