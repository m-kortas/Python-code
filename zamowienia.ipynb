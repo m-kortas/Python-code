{
 "cells": [
  {
   "cell_type": "code",
   "execution_count": 64,
   "metadata": {},
   "outputs": [],
   "source": [
    "from pprint import pprint"
   ]
  },
  {
   "cell_type": "code",
   "execution_count": 77,
   "metadata": {},
   "outputs": [],
   "source": [
    "def dodaj_zamowienie(zamowienie: list, imie: str,\n",
    "                     ciastko: str, ilosc: int, cena: float) -> bool:\n",
    "    id = len(zamowienie) + 1\n",
    "\n",
    "    for element in zamowienie:\n",
    "        if element[0] != id:\n",
    "            continue\n",
    "        else:\n",
    "            id += 900\n",
    "    zamowienie.append([id, imie, ciastko, ilosc, cena])\n",
    "\n",
    "    return True"
   ]
  },
  {
   "cell_type": "code",
   "execution_count": 80,
   "metadata": {},
   "outputs": [
    {
     "data": {
      "text/plain": [
       "True"
      ]
     },
     "execution_count": 80,
     "metadata": {},
     "output_type": "execute_result"
    }
   ],
   "source": [
    "dodaj_zamowienie(zamowienie, 'Mateusz', 'brownie', 3 , 3.30)"
   ]
  },
  {
   "cell_type": "code",
   "execution_count": 81,
   "metadata": {},
   "outputs": [
    {
     "data": {
      "text/plain": [
       "[[1, 'Mateusz', 'brownie', 3, 3.3],\n",
       " [2, 'Arek', 'napoleonka', 2, 4.4],\n",
       " [3, 'Jan', 'paczek', 1, None],\n",
       " [4, 'Mateusz', 'brownie', 3, 3.3]]"
      ]
     },
     "execution_count": 81,
     "metadata": {},
     "output_type": "execute_result"
    }
   ],
   "source": [
    "zamowienie"
   ]
  },
  {
   "cell_type": "code",
   "execution_count": 66,
   "metadata": {},
   "outputs": [],
   "source": [
    "def oblicz_wart_zam(zamowienia: list, id: int) -> float:\n",
    "    for zamowienie in zamowienia:\n",
    "        if zamowienie[0] == id:\n",
    "            if zamowienie[4]:\n",
    "                wartosc = zamowienie[3] * zamowienie[4]\n",
    "                return wartosc\n",
    "    return 0"
   ]
  },
  {
   "cell_type": "code",
   "execution_count": 67,
   "metadata": {},
   "outputs": [],
   "source": [
    "def oblicz_wart_wszystkich(zamowienia: list):\n",
    "    wartosc = 0\n",
    "    for zamowienie in zamowienia:\n",
    "        wart_poj_zam = oblicz_wart_zam(zamowienia, zamowienie[0])\n",
    "        wartosc += wart_poj_zam  \n",
    "\n",
    "    return wartosc"
   ]
  },
  {
   "cell_type": "code",
   "execution_count": 68,
   "metadata": {},
   "outputs": [],
   "source": [
    "zamowienie = []\n",
    "zam_1 = [1, 'Mateusz', 'brownie', 3, 3.30]\n",
    "zam_2 = [2, 'Arek', 'napoleonka', 2, 4.40]\n",
    "zam_3 = [3, 'Jan', 'paczek', 1, None]\n",
    "zamowienie.append(zam_1)\n",
    "zamowienie.append(zam_2)\n",
    "zamowienie.append(zam_3)"
   ]
  },
  {
   "cell_type": "code",
   "execution_count": 69,
   "metadata": {},
   "outputs": [
    {
     "name": "stdout",
     "output_type": "stream",
     "text": [
      "Wartość zamówienia: 8.8\n"
     ]
    }
   ],
   "source": [
    "wart_arek = oblicz_wart_zam(zamowienie, 2)\n",
    "print(f\"Wartość zamówienia: {wart_arek}\")"
   ]
  },
  {
   "cell_type": "code",
   "execution_count": 70,
   "metadata": {},
   "outputs": [
    {
     "name": "stdout",
     "output_type": "stream",
     "text": [
      "Wartość wszystkich zamówień: 18.7\n"
     ]
    }
   ],
   "source": [
    "wart_zamowienia = oblicz_wart_wszystkich(zamowienie)\n",
    "print(f\"Wartość wszystkich zamówień: {wart_zamowienia}\")"
   ]
  },
  {
   "cell_type": "code",
   "execution_count": null,
   "metadata": {},
   "outputs": [],
   "source": []
  }
 ],
 "metadata": {
  "kernelspec": {
   "display_name": "Python 3",
   "language": "python",
   "name": "python3"
  },
  "language_info": {
   "codemirror_mode": {
    "name": "ipython",
    "version": 3
   },
   "file_extension": ".py",
   "mimetype": "text/x-python",
   "name": "python",
   "nbconvert_exporter": "python",
   "pygments_lexer": "ipython3",
   "version": "3.6.4"
  }
 },
 "nbformat": 4,
 "nbformat_minor": 2
}
