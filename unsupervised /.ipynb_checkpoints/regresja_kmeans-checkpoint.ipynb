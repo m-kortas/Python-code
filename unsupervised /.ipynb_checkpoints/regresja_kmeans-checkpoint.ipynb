{
 "cells": [
  {
   "cell_type": "markdown",
   "metadata": {},
   "source": [
    "# Importy"
   ]
  },
  {
   "cell_type": "code",
   "execution_count": null,
   "metadata": {
    "ExecuteTime": {
     "end_time": "2018-06-14T10:00:34.472699Z",
     "start_time": "2018-06-14T10:00:32.169239Z"
    }
   },
   "outputs": [],
   "source": [
    "import pandas as pd\n",
    "import numpy as np\n",
    "\n",
    "from sklearn.cluster import KMeans\n",
    "from sklearn.metrics import silhouette_score, make_scorer\n",
    "from sklearn.model_selection import train_test_split, GridSearchCV\n",
    "from sklearn.ensemble import RandomForestRegressor\n",
    "from sklearn.preprocessing import MinMaxScaler\n",
    "\n",
    "import eli5\n",
    "\n",
    "%matplotlib inline"
   ]
  },
  {
   "cell_type": "markdown",
   "metadata": {
    "ExecuteTime": {
     "end_time": "2018-06-13T11:31:07.339277Z",
     "start_time": "2018-06-13T11:31:07.333826Z"
    }
   },
   "source": [
    "# Wczytywanie danych treningowych z Kaggle"
   ]
  },
  {
   "cell_type": "code",
   "execution_count": null,
   "metadata": {
    "ExecuteTime": {
     "end_time": "2018-06-14T10:00:34.536671Z",
     "start_time": "2018-06-14T10:00:34.479334Z"
    }
   },
   "outputs": [],
   "source": [
    "train = pd.read_csv(\"../input/train.csv\")"
   ]
  },
  {
   "cell_type": "markdown",
   "metadata": {},
   "source": [
    "# Tworzenie funkcji która transformuje kolumnę datetime"
   ]
  },
  {
   "cell_type": "code",
   "execution_count": null,
   "metadata": {
    "ExecuteTime": {
     "end_time": "2018-06-14T10:00:34.572480Z",
     "start_time": "2018-06-14T10:00:34.546954Z"
    }
   },
   "outputs": [],
   "source": [
    "def transform_dates(dataframe):\n",
    "    dataframe[\"datetime\"] = pd.to_datetime(dataframe[\"datetime\"])\n",
    "    dataframe[\"dayofweek\"] = dataframe[\"datetime\"].dt.dayofweek      #The day of the week with Monday=0, Sunday=6\n",
    "    dataframe[\"year\"] = dataframe[\"datetime\"].dt.year\n",
    "    dataframe[\"month\"] = dataframe[\"datetime\"].dt.month\n",
    "    dataframe[\"day\"] = dataframe[\"datetime\"].dt.day\n",
    "    dataframe[\"hour\"] = dataframe[\"datetime\"].dt.hour\n",
    "    return dataframe"
   ]
  },
  {
   "cell_type": "markdown",
   "metadata": {},
   "source": [
    "# Używanie funkcji transformującej datetime"
   ]
  },
  {
   "cell_type": "code",
   "execution_count": null,
   "metadata": {
    "ExecuteTime": {
     "end_time": "2018-06-14T10:00:34.743710Z",
     "start_time": "2018-06-14T10:00:34.585785Z"
    }
   },
   "outputs": [],
   "source": [
    "train = transform_dates(train)"
   ]
  },
  {
   "cell_type": "markdown",
   "metadata": {
    "ExecuteTime": {
     "end_time": "2018-06-13T11:33:00.866822Z",
     "start_time": "2018-06-13T11:33:00.840605Z"
    }
   },
   "source": [
    "# Tworzenie X - dataframe ze zmiennymi niezależnymi i y - series ze zmienną zależną"
   ]
  },
  {
   "cell_type": "code",
   "execution_count": null,
   "metadata": {
    "ExecuteTime": {
     "end_time": "2018-06-14T10:00:34.826694Z",
     "start_time": "2018-06-14T10:00:34.753732Z"
    }
   },
   "outputs": [],
   "source": [
    "X = train.drop([\"count\", \"casual\", \"registered\", \"datetime\"], axis = 1)\n",
    "y = train[\"count\"]"
   ]
  },
  {
   "cell_type": "markdown",
   "metadata": {},
   "source": [
    "# Chcielibyśmy poznać jakość naszego modelu zanim wyślemy wyniki do Kaggle, w tym celu stworzymy \"wewnętrzne\" zbiory testowe i treningowe, 33% przeznaczymy na test"
   ]
  },
  {
   "cell_type": "code",
   "execution_count": null,
   "metadata": {
    "ExecuteTime": {
     "end_time": "2018-06-14T10:00:34.945270Z",
     "start_time": "2018-06-14T10:00:34.842855Z"
    }
   },
   "outputs": [],
   "source": [
    "X_train, X_test, y_train, y_test = train_test_split(X, y, test_size=0.33, random_state=42)"
   ]
  },
  {
   "cell_type": "markdown",
   "metadata": {
    "ExecuteTime": {
     "end_time": "2018-06-13T11:26:23.583377Z",
     "start_time": "2018-06-13T11:26:23.489204Z"
    }
   },
   "source": [
    "# Przygotowujemy parametry dla naszego modelu - RandomForestRegressor"
   ]
  },
  {
   "cell_type": "code",
   "execution_count": null,
   "metadata": {
    "ExecuteTime": {
     "end_time": "2018-06-14T10:00:35.037334Z",
     "start_time": "2018-06-14T10:00:34.950816Z"
    }
   },
   "outputs": [],
   "source": [
    "parameters = {'n_estimators': [20], 'max_features': np.arange(0.1, 1.01, 0.1),\n",
    "              'bootstrap': [True, False]}\n",
    "forest = RandomForestRegressor()"
   ]
  },
  {
   "cell_type": "markdown",
   "metadata": {},
   "source": [
    "# Oraz funkcję która będzie go oceniać"
   ]
  },
  {
   "cell_type": "code",
   "execution_count": null,
   "metadata": {
    "ExecuteTime": {
     "end_time": "2018-06-14T10:00:35.138490Z",
     "start_time": "2018-06-14T10:00:35.041653Z"
    }
   },
   "outputs": [],
   "source": [
    "def rmsle(y, y_pred):\n",
    "    assert len(y) == len(y_pred)\n",
    "    return np.sqrt(np.mean((np.log(1+y_pred) - np.log(1+y))**2))\n",
    "\n",
    "rmsle_score = make_scorer(rmsle, greater_is_better = False)"
   ]
  },
  {
   "cell_type": "markdown",
   "metadata": {
    "ExecuteTime": {
     "end_time": "2018-06-13T12:23:12.003272Z",
     "start_time": "2018-06-13T12:23:11.998587Z"
    }
   },
   "source": [
    "# Definiujemy naszą funkcję modelującą"
   ]
  },
  {
   "cell_type": "code",
   "execution_count": null,
   "metadata": {
    "ExecuteTime": {
     "end_time": "2018-06-14T10:00:35.257669Z",
     "start_time": "2018-06-14T10:00:35.141951Z"
    }
   },
   "outputs": [],
   "source": [
    "regressor = GridSearchCV(estimator = forest, param_grid = parameters, \n",
    "                         return_train_score=True, scoring = rmsle_score)"
   ]
  },
  {
   "cell_type": "markdown",
   "metadata": {},
   "source": [
    "# I ją trenujemy"
   ]
  },
  {
   "cell_type": "code",
   "execution_count": null,
   "metadata": {
    "ExecuteTime": {
     "end_time": "2018-06-14T10:01:15.200080Z",
     "start_time": "2018-06-14T10:00:35.261080Z"
    }
   },
   "outputs": [],
   "source": [
    "regressor.fit(X = X_train, y = y_train)"
   ]
  },
  {
   "cell_type": "markdown",
   "metadata": {},
   "source": [
    "# Sprawdzamy wagi naszych cech po treningu"
   ]
  },
  {
   "cell_type": "code",
   "execution_count": null,
   "metadata": {
    "ExecuteTime": {
     "end_time": "2018-06-14T10:01:15.291375Z",
     "start_time": "2018-06-14T10:01:15.202951Z"
    }
   },
   "outputs": [],
   "source": [
    "eli5.explain_weights(regressor.best_estimator_, feature_names=X_train.columns.values)"
   ]
  },
  {
   "cell_type": "markdown",
   "metadata": {
    "ExecuteTime": {
     "end_time": "2018-06-13T12:26:03.619389Z",
     "start_time": "2018-06-13T12:26:03.611877Z"
    }
   },
   "source": [
    "# Dokonujemy predykcji na wewnętrznym zbiorze testowym"
   ]
  },
  {
   "cell_type": "code",
   "execution_count": null,
   "metadata": {
    "ExecuteTime": {
     "end_time": "2018-06-14T10:01:15.404794Z",
     "start_time": "2018-06-14T10:01:15.294321Z"
    }
   },
   "outputs": [],
   "source": [
    "predicted = regressor.predict(X_test)\n",
    "wyniki = pd.DataFrame(y_test)\n",
    "wyniki[\"y_pred\"] = predicted\n",
    "wyniki.rename(columns = {\"Klasa\":\"y_test\"}, inplace = True)"
   ]
  },
  {
   "cell_type": "markdown",
   "metadata": {},
   "source": [
    "# I sprawdzamy wynik"
   ]
  },
  {
   "cell_type": "code",
   "execution_count": null,
   "metadata": {
    "ExecuteTime": {
     "end_time": "2018-06-14T10:01:15.530588Z",
     "start_time": "2018-06-14T10:01:15.407967Z"
    }
   },
   "outputs": [],
   "source": [
    "wewnetrzny_test = rmsle(y_pred = wyniki[\"y_pred\"], y = wyniki[\"count\"])\n",
    "print(wewnetrzny_test)"
   ]
  },
  {
   "cell_type": "markdown",
   "metadata": {
    "ExecuteTime": {
     "end_time": "2018-06-13T11:28:23.740979Z",
     "start_time": "2018-06-13T11:28:23.707327Z"
    }
   },
   "source": [
    "# Wczytujemy zbiór testowy z kaggle"
   ]
  },
  {
   "cell_type": "code",
   "execution_count": null,
   "metadata": {
    "ExecuteTime": {
     "end_time": "2018-06-14T10:01:15.736368Z",
     "start_time": "2018-06-14T10:01:15.533691Z"
    }
   },
   "outputs": [],
   "source": [
    "kaggle = pd.read_csv(\"../input/test.csv\")\n",
    "to_submit = kaggle"
   ]
  },
  {
   "cell_type": "markdown",
   "metadata": {},
   "source": [
    "# Transformujemy daty w taki sam sposób"
   ]
  },
  {
   "cell_type": "code",
   "execution_count": null,
   "metadata": {
    "ExecuteTime": {
     "end_time": "2018-06-14T10:01:15.850153Z",
     "start_time": "2018-06-14T10:01:15.739706Z"
    }
   },
   "outputs": [],
   "source": [
    "kaggle = transform_dates(kaggle)\n",
    "kaggle = kaggle.drop([\"datetime\"], axis = 1)"
   ]
  },
  {
   "cell_type": "markdown",
   "metadata": {},
   "source": [
    "# Dokonujemy predykcji"
   ]
  },
  {
   "cell_type": "code",
   "execution_count": null,
   "metadata": {
    "ExecuteTime": {
     "end_time": "2018-06-14T10:01:16.063628Z",
     "start_time": "2018-06-14T10:01:15.853154Z"
    }
   },
   "outputs": [],
   "source": [
    "to_submit[\"count\"] = regressor.predict(kaggle)"
   ]
  },
  {
   "cell_type": "markdown",
   "metadata": {},
   "source": [
    "# I zapisujemy je na dysku w formacie CSV - pierwsze wysłanie wyników"
   ]
  },
  {
   "cell_type": "code",
   "execution_count": null,
   "metadata": {
    "ExecuteTime": {
     "end_time": "2018-06-14T10:01:16.331377Z",
     "start_time": "2018-06-14T10:01:16.068021Z"
    }
   },
   "outputs": [],
   "source": [
    "to_submit[[\"datetime\", \"count\"]].to_csv(\"../output/{}-results.csv\".format(wewnetrzny_test), index = False)"
   ]
  },
  {
   "cell_type": "markdown",
   "metadata": {
    "ExecuteTime": {
     "end_time": "2018-06-13T12:52:08.109567Z",
     "start_time": "2018-06-13T12:52:08.102045Z"
    }
   },
   "source": [
    "# Wyskalujmy obserwacja od 0 do 1"
   ]
  },
  {
   "cell_type": "code",
   "execution_count": null,
   "metadata": {
    "ExecuteTime": {
     "end_time": "2018-06-14T10:01:16.543123Z",
     "start_time": "2018-06-14T10:01:16.336010Z"
    }
   },
   "outputs": [],
   "source": [
    "skaler = MinMaxScaler()\n",
    "skaler.fit(X_train)\n",
    "\n",
    "X_train_scaled = skaler.transform(X_train)\n",
    "X_test_scaled = skaler.transform(X_test)"
   ]
  },
  {
   "cell_type": "markdown",
   "metadata": {},
   "source": [
    "# Definiujemy domyślne k-średnich"
   ]
  },
  {
   "cell_type": "code",
   "execution_count": null,
   "metadata": {
    "ExecuteTime": {
     "end_time": "2018-06-14T10:01:16.726158Z",
     "start_time": "2018-06-14T10:01:16.546624Z"
    }
   },
   "outputs": [],
   "source": [
    "ksrednich = KMeans()"
   ]
  },
  {
   "cell_type": "markdown",
   "metadata": {},
   "source": [
    "# I je trenujemy"
   ]
  },
  {
   "cell_type": "code",
   "execution_count": null,
   "metadata": {
    "ExecuteTime": {
     "end_time": "2018-06-14T10:01:17.945336Z",
     "start_time": "2018-06-14T10:01:16.729219Z"
    }
   },
   "outputs": [],
   "source": [
    "ksrednich.fit(X_train_scaled)"
   ]
  },
  {
   "cell_type": "markdown",
   "metadata": {
    "ExecuteTime": {
     "end_time": "2018-06-13T12:49:39.721216Z",
     "start_time": "2018-06-13T12:49:39.715921Z"
    }
   },
   "source": [
    "# Zapisujemy je jako nową zmienną w X_train i X_test"
   ]
  },
  {
   "cell_type": "code",
   "execution_count": null,
   "metadata": {
    "ExecuteTime": {
     "end_time": "2018-06-14T10:01:18.185475Z",
     "start_time": "2018-06-14T10:01:17.956107Z"
    }
   },
   "outputs": [],
   "source": [
    "X_train[\"ksrednich\"] = ksrednich.predict(X_train_scaled)\n",
    "X_test[\"ksrednich\"] = ksrednich.predict(X_test_scaled)"
   ]
  },
  {
   "cell_type": "markdown",
   "metadata": {
    "ExecuteTime": {
     "end_time": "2018-06-13T12:56:25.725360Z",
     "start_time": "2018-06-13T12:56:25.718981Z"
    }
   },
   "source": [
    "# Ponownie trenujemy regressor na rozbudowanych danych"
   ]
  },
  {
   "cell_type": "code",
   "execution_count": null,
   "metadata": {
    "ExecuteTime": {
     "end_time": "2018-06-14T10:02:07.570302Z",
     "start_time": "2018-06-14T10:01:18.196420Z"
    }
   },
   "outputs": [],
   "source": [
    "regressor.fit(X = X_train, y = y_train)"
   ]
  },
  {
   "cell_type": "markdown",
   "metadata": {},
   "source": [
    "# I sprawdzamy, czy dołożenie nowej cechy coś w ogóle zmieniło"
   ]
  },
  {
   "cell_type": "code",
   "execution_count": null,
   "metadata": {
    "ExecuteTime": {
     "end_time": "2018-06-14T10:02:07.624793Z",
     "start_time": "2018-06-14T10:02:07.573519Z"
    }
   },
   "outputs": [],
   "source": [
    "eli5.explain_weights(regressor.best_estimator_, feature_names=X_train.columns.values)"
   ]
  },
  {
   "cell_type": "markdown",
   "metadata": {},
   "source": [
    "# Sprawdzamy wynik naszego modelu"
   ]
  },
  {
   "cell_type": "code",
   "execution_count": null,
   "metadata": {
    "ExecuteTime": {
     "end_time": "2018-06-14T10:02:07.824374Z",
     "start_time": "2018-06-14T10:02:07.639190Z"
    }
   },
   "outputs": [],
   "source": [
    "predicted = regressor.predict(X_test)\n",
    "wyniki = pd.DataFrame(y_test)\n",
    "wyniki[\"y_pred\"] = predicted\n",
    "wyniki.rename(columns = {\"Klasa\":\"y_test\"}, inplace = True)\n",
    "\n",
    "wewnetrzny_test = rmsle(y_pred = wyniki[\"y_pred\"], y = wyniki[\"count\"])\n",
    "print(wewnetrzny_test)"
   ]
  },
  {
   "cell_type": "markdown",
   "metadata": {
    "ExecuteTime": {
     "end_time": "2018-06-14T08:17:28.324289Z",
     "start_time": "2018-06-14T08:17:28.104229Z"
    }
   },
   "source": [
    "# Wyskalujmy więc zbiór danych na których mamy dokonać predykcji, dodajmy klasteryzację i dokonajmy predykcji"
   ]
  },
  {
   "cell_type": "code",
   "execution_count": null,
   "metadata": {
    "ExecuteTime": {
     "end_time": "2018-06-14T10:02:07.996215Z",
     "start_time": "2018-06-14T10:02:07.837678Z"
    }
   },
   "outputs": [],
   "source": [
    "kaggle_scaled = skaler.transform(kaggle)\n",
    "kaggle[\"ksrednich\"] = ksrednich.predict(kaggle_scaled)\n",
    "to_submit[\"count\"] = regressor.predict(kaggle)"
   ]
  },
  {
   "cell_type": "markdown",
   "metadata": {},
   "source": [
    "# Zapisujemy na dysku - po raz drugi"
   ]
  },
  {
   "cell_type": "code",
   "execution_count": null,
   "metadata": {
    "ExecuteTime": {
     "end_time": "2018-06-14T10:02:08.095870Z",
     "start_time": "2018-06-14T10:02:08.006680Z"
    }
   },
   "outputs": [],
   "source": [
    "to_submit[[\"datetime\", \"count\"]].to_csv(\"../output/{}-results-kmeans-def.csv\".format(wewnetrzny_test), index = False)"
   ]
  },
  {
   "cell_type": "markdown",
   "metadata": {},
   "source": [
    "# Sprawdźmy jaka liczba k będzie optymalna według silhouette_score"
   ]
  },
  {
   "cell_type": "code",
   "execution_count": null,
   "metadata": {
    "ExecuteTime": {
     "end_time": "2018-06-14T10:04:14.497157Z",
     "start_time": "2018-06-14T10:02:08.104932Z"
    }
   },
   "outputs": [],
   "source": [
    "ile_grup = range(2,21)\n",
    "\n",
    "wyniki = []\n",
    "\n",
    "for n_grup in ile_grup:    \n",
    "    ksrednich = KMeans(n_clusters = n_grup, random_state = 42)\n",
    "    przewidziane = ksrednich.fit_predict(X_train_scaled)\n",
    "\n",
    "    # The silhouette_score gives the average value for all the samples.\n",
    "    # This gives a perspective into the density and separation of the formed\n",
    "    # clusters\n",
    "    srednia_sylwetka = silhouette_score(X_train_scaled, przewidziane)\n",
    "    print(\"Dla n_grup =\", n_grup,\n",
    "          \"średnia sylwetka wynosi:\", srednia_sylwetka)\n",
    "    wyniki.append(srednia_sylwetka)"
   ]
  },
  {
   "cell_type": "markdown",
   "metadata": {},
   "source": [
    "# I od razu przypiszmy tę liczbę do zmiennej k "
   ]
  },
  {
   "cell_type": "code",
   "execution_count": null,
   "metadata": {
    "ExecuteTime": {
     "end_time": "2018-06-14T10:04:14.758629Z",
     "start_time": "2018-06-14T10:04:14.524581Z"
    }
   },
   "outputs": [],
   "source": [
    "wyniki = pd.Series(wyniki, index=ile_grup)\n",
    "k = wyniki[wyniki == wyniki.max()].index.item()"
   ]
  },
  {
   "cell_type": "markdown",
   "metadata": {},
   "source": [
    "# Zobaczmy jescze przy okazji jak wygląda silhouette_score z zależności od k"
   ]
  },
  {
   "cell_type": "code",
   "execution_count": null,
   "metadata": {
    "ExecuteTime": {
     "end_time": "2018-06-14T10:04:16.122102Z",
     "start_time": "2018-06-14T10:04:14.767151Z"
    }
   },
   "outputs": [],
   "source": [
    "wyniki.plot(grid = True)"
   ]
  },
  {
   "cell_type": "markdown",
   "metadata": {},
   "source": [
    "# Skoro okazało się, że najlepsze k jest inne niż domyślnie, przeprowadźmy jeszcze raz cały proces"
   ]
  },
  {
   "cell_type": "code",
   "execution_count": null,
   "metadata": {
    "ExecuteTime": {
     "end_time": "2018-06-14T10:05:05.360604Z",
     "start_time": "2018-06-14T10:04:16.128148Z"
    }
   },
   "outputs": [],
   "source": [
    "ksrednich = KMeans(n_clusters = k)\n",
    "ksrednich.fit(X_train_scaled)\n",
    "\n",
    "X_train[\"ksrednich\"] = ksrednich.predict(X_train_scaled)\n",
    "X_test[\"ksrednich\"] = ksrednich.predict(X_test_scaled)\n",
    "\n",
    "regressor.fit(X = X_train, y = y_train)\n",
    "\n",
    "eli5.explain_weights(regressor.best_estimator_, feature_names=X_train.columns.values)"
   ]
  },
  {
   "cell_type": "markdown",
   "metadata": {},
   "source": [
    "# Sprawdzenie jakości modelu"
   ]
  },
  {
   "cell_type": "code",
   "execution_count": null,
   "metadata": {
    "ExecuteTime": {
     "end_time": "2018-06-14T10:05:05.425756Z",
     "start_time": "2018-06-14T10:05:05.369443Z"
    }
   },
   "outputs": [],
   "source": [
    "predicted = regressor.predict(X_test)\n",
    "wyniki = pd.DataFrame(y_test)\n",
    "wyniki[\"y_pred\"] = predicted\n",
    "wyniki.rename(columns = {\"Klasa\":\"y_test\"}, inplace = True)\n",
    "\n",
    "wewnetrzny_test = rmsle(y_pred = wyniki[\"y_pred\"], y = wyniki[\"count\"])\n",
    "print(wewnetrzny_test)"
   ]
  },
  {
   "cell_type": "markdown",
   "metadata": {},
   "source": [
    "# Dokonajmy finalnej predykcji"
   ]
  },
  {
   "cell_type": "code",
   "execution_count": null,
   "metadata": {
    "ExecuteTime": {
     "end_time": "2018-06-14T10:05:05.581822Z",
     "start_time": "2018-06-14T10:05:05.437812Z"
    }
   },
   "outputs": [],
   "source": [
    "kaggle[\"ksrednich\"] = ksrednich.predict(kaggle_scaled)\n",
    "to_submit[\"count\"] = regressor.predict(kaggle)"
   ]
  },
  {
   "cell_type": "markdown",
   "metadata": {},
   "source": [
    "# I zapiszmy dane na dysku po raz trzeci"
   ]
  },
  {
   "cell_type": "code",
   "execution_count": null,
   "metadata": {
    "ExecuteTime": {
     "end_time": "2018-06-14T10:05:05.987282Z",
     "start_time": "2018-06-14T10:05:05.592455Z"
    }
   },
   "outputs": [],
   "source": [
    "to_submit[[\"datetime\", \"count\"]].to_csv(\"../output/{}-results-kmeans-opt.csv\".format(wewnetrzny_test), index = False)"
   ]
  }
 ],
 "metadata": {
  "kernelspec": {
   "display_name": "Python 3",
   "language": "python",
   "name": "python3"
  },
  "language_info": {
   "codemirror_mode": {
    "name": "ipython",
    "version": 3
   },
   "file_extension": ".py",
   "mimetype": "text/x-python",
   "name": "python",
   "nbconvert_exporter": "python",
   "pygments_lexer": "ipython3",
   "version": "3.6.4"
  }
 },
 "nbformat": 4,
 "nbformat_minor": 2
}
