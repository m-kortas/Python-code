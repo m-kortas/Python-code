{
 "cells": [
  {
   "cell_type": "code",
   "execution_count": 3,
   "metadata": {
    "ExecuteTime": {
     "end_time": "2018-06-02T10:28:21.709622Z",
     "start_time": "2018-06-02T10:28:20.537324Z"
    }
   },
   "outputs": [],
   "source": [
    "import pandas as pd\n",
    "\n",
    "from sklearn.preprocessing import Imputer\n",
    "from sklearn.preprocessing import MinMaxScaler\n",
    "\n",
    "from sklearn.model_selection import cross_val_score\n",
    "\n",
    "from sklearn.neighbors import KNeighborsClassifier"
   ]
  },
  {
   "cell_type": "code",
   "execution_count": 4,
   "metadata": {
    "ExecuteTime": {
     "end_time": "2018-06-02T10:28:21.733015Z",
     "start_time": "2018-06-02T10:28:21.712757Z"
    }
   },
   "outputs": [],
   "source": [
    "train = pd.read_csv(\"titanic-train.csv\", index_col = \"PassengerId\")"
   ]
  },
  {
   "cell_type": "code",
   "execution_count": 5,
   "metadata": {
    "ExecuteTime": {
     "end_time": "2018-06-02T10:28:21.971430Z",
     "start_time": "2018-06-02T10:28:21.963896Z"
    }
   },
   "outputs": [],
   "source": [
    "pd.options.mode.chained_assignment = None  # default='warn'"
   ]
  },
  {
   "cell_type": "code",
   "execution_count": 6,
   "metadata": {
    "ExecuteTime": {
     "end_time": "2018-06-02T10:28:22.077649Z",
     "start_time": "2018-06-02T10:28:21.976930Z"
    }
   },
   "outputs": [],
   "source": [
    "X = train[[\"Pclass\", \"Sex\", \"Age\", \"SibSp\", \"Parch\", \"Fare\", \"Embarked\"]]   #def X"
   ]
  },
  {
   "cell_type": "code",
   "execution_count": 7,
   "metadata": {
    "ExecuteTime": {
     "end_time": "2018-06-02T10:28:22.209958Z",
     "start_time": "2018-06-02T10:28:22.086976Z"
    }
   },
   "outputs": [],
   "source": [
    "kolumny = X.columns   #kolumny"
   ]
  },
  {
   "cell_type": "code",
   "execution_count": 8,
   "metadata": {
    "ExecuteTime": {
     "end_time": "2018-06-02T10:28:22.314982Z",
     "start_time": "2018-06-02T10:28:22.212722Z"
    }
   },
   "outputs": [],
   "source": [
    "X[\"Sex\"] = X[\"Sex\"].astype(\"category\")\n",
    "X[\"Sex\"] = X[\"Sex\"].cat.codes      #kategorie\n",
    "\n",
    "X[\"Embarked\"] = X[\"Embarked\"].astype(\"category\")\n",
    "X[\"Embarked\"] = X[\"Embarked\"].cat.codes"
   ]
  },
  {
   "cell_type": "code",
   "execution_count": 9,
   "metadata": {
    "ExecuteTime": {
     "end_time": "2018-06-02T10:28:22.554730Z",
     "start_time": "2018-06-02T10:28:22.526110Z"
    }
   },
   "outputs": [],
   "source": [
    "imputer = Imputer(strategy = \"median\")\n",
    "X = pd.DataFrame(imputer.fit_transform(X), columns = X.columns, index = X.index)  #NAs na Mediany"
   ]
  },
  {
   "cell_type": "code",
   "execution_count": 10,
   "metadata": {
    "ExecuteTime": {
     "end_time": "2018-06-02T10:28:22.652147Z",
     "start_time": "2018-06-02T10:28:22.558230Z"
    }
   },
   "outputs": [],
   "source": [
    "scaler = MinMaxScaler()\n",
    "X = scaler.fit_transform(X) #skalowanie"
   ]
  },
  {
   "cell_type": "code",
   "execution_count": 11,
   "metadata": {
    "ExecuteTime": {
     "end_time": "2018-06-02T10:28:22.861317Z",
     "start_time": "2018-06-02T10:28:22.765165Z"
    }
   },
   "outputs": [],
   "source": [
    "X = pd.DataFrame(X, columns = kolumny)      #X"
   ]
  },
  {
   "cell_type": "code",
   "execution_count": 12,
   "metadata": {
    "ExecuteTime": {
     "end_time": "2018-06-02T10:28:23.099022Z",
     "start_time": "2018-06-02T10:28:23.074119Z"
    }
   },
   "outputs": [],
   "source": [
    "y = train[\"Survived\"]     #y"
   ]
  },
  {
   "cell_type": "code",
   "execution_count": 13,
   "metadata": {
    "ExecuteTime": {
     "end_time": "2018-06-02T10:28:23.211695Z",
     "start_time": "2018-06-02T10:28:23.112322Z"
    }
   },
   "outputs": [],
   "source": [
    "from sklearn.model_selection import train_test_split\n",
    "X_train, X_test, y_train, y_test = train_test_split(X, y,      #podział\n",
    "                                                    test_size=0.33, \n",
    "                                                    random_state=42)"
   ]
  },
  {
   "cell_type": "code",
   "execution_count": 14,
   "metadata": {
    "ExecuteTime": {
     "end_time": "2018-06-02T10:28:23.390370Z",
     "start_time": "2018-06-02T10:28:23.222882Z"
    }
   },
   "outputs": [],
   "source": [
    "results = []\n",
    "best_result = 0\n",
    "parameters = {}  #parametry"
   ]
  },
  {
   "cell_type": "code",
   "execution_count": 15,
   "metadata": {
    "ExecuteTime": {
     "end_time": "2018-06-02T10:28:43.179782Z",
     "start_time": "2018-06-02T10:28:23.395365Z"
    }
   },
   "outputs": [
    {
     "name": "stdout",
     "output_type": "stream",
     "text": [
      "New best neighbours: 1, weight: uniform, p: 1\n",
      "New best neighbours: 2, weight: uniform, p: 1\n",
      "New best neighbours: 4, weight: uniform, p: 1\n",
      "New best neighbours: 5, weight: uniform, p: 1\n",
      "New best neighbours: 6, weight: uniform, p: 1\n",
      "New best neighbours: 8, weight: uniform, p: 1\n",
      "New best neighbours: 8, weight: uniform, p: 2\n",
      "New best neighbours: 10, weight: uniform, p: 2\n",
      "New best neighbours: 12, weight: uniform, p: 1\n",
      "New best neighbours: 12, weight: uniform, p: 2\n",
      "New best neighbours: 16, weight: uniform, p: 1\n",
      "New best neighbours: 19, weight: uniform, p: 1\n",
      "New best neighbours: 20, weight: uniform, p: 1\n",
      "New best neighbours: 21, weight: uniform, p: 1\n",
      "New best neighbours: 27, weight: uniform, p: 1\n"
     ]
    }
   ],
   "source": [
    "for neighbours in range(1,101):   #looop\n",
    "    for weight in [\"uniform\", \"distance\"]:\n",
    "        for p in [1,2]:\n",
    "            classifier = KNeighborsClassifier(n_neighbors = neighbours, weights = weight, \n",
    "                                              p = p)\n",
    "            scores = cross_val_score(classifier, X_train, y_train, cv = 5)\n",
    "            results.append(scores.mean())\n",
    "            #print(\"Accuracy: {} (std: {})\".format(scores.mean(), scores.std()))\n",
    "            if scores.mean() > best_result:\n",
    "                parameters[\"neighbours\"] = neighbours\n",
    "                parameters[\"weight\"] = weight\n",
    "                parameters[\"p\"] = p\n",
    "                print(\"New best neighbours: {}, weight: {}, p: {}\".format(neighbours, \n",
    "                                                                          weight, p))\n",
    "                best_result = scores.mean()"
   ]
  },
  {
   "cell_type": "code",
   "execution_count": 16,
   "metadata": {
    "ExecuteTime": {
     "end_time": "2018-06-02T10:28:43.194511Z",
     "start_time": "2018-06-02T10:28:43.182873Z"
    }
   },
   "outputs": [],
   "source": [
    "classifier = KNeighborsClassifier(n_neighbors = parameters[\"neighbours\"], \n",
    "                                  weights = parameters[\"weight\"],   #klasyfikator\n",
    "                                  p = parameters[\"p\"])"
   ]
  },
  {
   "cell_type": "code",
   "execution_count": 17,
   "metadata": {
    "ExecuteTime": {
     "end_time": "2018-06-02T10:28:43.329271Z",
     "start_time": "2018-06-02T10:28:43.203444Z"
    }
   },
   "outputs": [
    {
     "data": {
      "text/plain": [
       "KNeighborsClassifier(algorithm='auto', leaf_size=30, metric='minkowski',\n",
       "           metric_params=None, n_jobs=1, n_neighbors=27, p=1,\n",
       "           weights='uniform')"
      ]
     },
     "execution_count": 17,
     "metadata": {},
     "output_type": "execute_result"
    }
   ],
   "source": [
    "classifier.fit(X_train, y_train)  #fit"
   ]
  },
  {
   "cell_type": "code",
   "execution_count": 18,
   "metadata": {
    "ExecuteTime": {
     "end_time": "2018-06-02T10:28:43.428221Z",
     "start_time": "2018-06-02T10:28:43.337984Z"
    }
   },
   "outputs": [],
   "source": [
    "from sklearn.metrics import accuracy_score"
   ]
  },
  {
   "cell_type": "code",
   "execution_count": 19,
   "metadata": {
    "ExecuteTime": {
     "end_time": "2018-06-02T10:28:43.616576Z",
     "start_time": "2018-06-02T10:28:43.431046Z"
    }
   },
   "outputs": [
    {
     "data": {
      "text/plain": [
       "0.8"
      ]
     },
     "execution_count": 19,
     "metadata": {},
     "output_type": "execute_result"
    }
   ],
   "source": [
    "accuracy_score(y_true=y_test, y_pred=classifier.predict(X_test)) #acc"
   ]
  },
  {
   "cell_type": "code",
   "execution_count": null,
   "metadata": {},
   "outputs": [],
   "source": []
  }
 ],
 "metadata": {
  "kernelspec": {
   "display_name": "Python 3",
   "language": "python",
   "name": "python3"
  },
  "language_info": {
   "codemirror_mode": {
    "name": "ipython",
    "version": 3
   },
   "file_extension": ".py",
   "mimetype": "text/x-python",
   "name": "python",
   "nbconvert_exporter": "python",
   "pygments_lexer": "ipython3",
   "version": "3.6.4"
  }
 },
 "nbformat": 4,
 "nbformat_minor": 2
}
