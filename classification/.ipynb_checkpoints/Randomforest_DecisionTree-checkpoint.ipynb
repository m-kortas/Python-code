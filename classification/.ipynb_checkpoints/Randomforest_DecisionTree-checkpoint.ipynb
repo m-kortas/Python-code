{
 "cells": [
  {
   "cell_type": "markdown",
   "metadata": {},
   "source": [
    "conda install tqdm seaborn"
   ]
  },
  {
   "cell_type": "code",
   "execution_count": 3,
   "metadata": {
    "ExecuteTime": {
     "end_time": "2018-05-25T17:34:50.782084Z",
     "start_time": "2018-05-25T17:34:40.341995Z"
    }
   },
   "outputs": [],
   "source": [
    "from sklearn.datasets import load_breast_cancer\n",
    "breast = load_breast_cancer()\n",
    "import pandas as pd\n",
    "X = pd.DataFrame(breast[\"data\"], columns = breast[\"feature_names\"])\n",
    "y = pd.Series(breast[\"target\"])"
   ]
  },
  {
   "cell_type": "code",
   "execution_count": 4,
   "metadata": {
    "ExecuteTime": {
     "end_time": "2018-05-25T17:34:51.398291Z",
     "start_time": "2018-05-25T17:34:50.785401Z"
    }
   },
   "outputs": [],
   "source": [
    "from sklearn.model_selection import train_test_split\n",
    "X_train, X_test, y_train, y_test = train_test_split(X, y, \n",
    "                                                    test_size=0.33, random_state=42)"
   ]
  },
  {
   "cell_type": "markdown",
   "metadata": {},
   "source": [
    "# Random Forest Classifier"
   ]
  },
  {
   "cell_type": "code",
   "execution_count": 5,
   "metadata": {
    "ExecuteTime": {
     "end_time": "2018-05-25T17:34:51.948146Z",
     "start_time": "2018-05-25T17:34:51.403737Z"
    }
   },
   "outputs": [],
   "source": [
    "from sklearn.ensemble import RandomForestClassifier"
   ]
  },
  {
   "cell_type": "code",
   "execution_count": 6,
   "metadata": {
    "ExecuteTime": {
     "end_time": "2018-05-25T17:34:51.965536Z",
     "start_time": "2018-05-25T17:34:51.957497Z"
    }
   },
   "outputs": [],
   "source": [
    "clf_rfc = RandomForestClassifier(criterion = 'entropy')"
   ]
  },
  {
   "cell_type": "code",
   "execution_count": 7,
   "metadata": {
    "ExecuteTime": {
     "end_time": "2018-05-25T17:34:52.187223Z",
     "start_time": "2018-05-25T17:34:51.977213Z"
    }
   },
   "outputs": [
    {
     "data": {
      "text/plain": [
       "RandomForestClassifier(bootstrap=True, class_weight=None, criterion='entropy',\n",
       "            max_depth=None, max_features='auto', max_leaf_nodes=None,\n",
       "            min_impurity_decrease=0.0, min_impurity_split=None,\n",
       "            min_samples_leaf=1, min_samples_split=2,\n",
       "            min_weight_fraction_leaf=0.0, n_estimators=10, n_jobs=1,\n",
       "            oob_score=False, random_state=None, verbose=0,\n",
       "            warm_start=False)"
      ]
     },
     "execution_count": 7,
     "metadata": {},
     "output_type": "execute_result"
    }
   ],
   "source": [
    "clf_rfc.fit(X = X_train, y = y_train)"
   ]
  },
  {
   "cell_type": "code",
   "execution_count": 8,
   "metadata": {
    "ExecuteTime": {
     "end_time": "2018-05-25T17:34:52.310122Z",
     "start_time": "2018-05-25T17:34:52.197685Z"
    }
   },
   "outputs": [],
   "source": [
    "prediction_rfc = clf_rfc.predict(X_test)"
   ]
  },
  {
   "cell_type": "markdown",
   "metadata": {},
   "source": [
    "# Decision Tree Classifier"
   ]
  },
  {
   "cell_type": "code",
   "execution_count": 9,
   "metadata": {
    "ExecuteTime": {
     "end_time": "2018-05-25T17:34:52.410919Z",
     "start_time": "2018-05-25T17:34:52.320920Z"
    }
   },
   "outputs": [],
   "source": [
    "from sklearn.tree import DecisionTreeClassifier\n",
    "from sklearn.model_selection import cross_val_score"
   ]
  },
  {
   "cell_type": "code",
   "execution_count": 10,
   "metadata": {
    "ExecuteTime": {
     "end_time": "2018-05-25T17:34:52.544888Z",
     "start_time": "2018-05-25T17:34:52.420994Z"
    }
   },
   "outputs": [],
   "source": [
    "best_score = 0\n",
    "parameters = {}"
   ]
  },
  {
   "cell_type": "code",
   "execution_count": 11,
   "metadata": {
    "ExecuteTime": {
     "end_time": "2018-05-25T17:41:34.976447Z",
     "start_time": "2018-05-25T17:34:52.552577Z"
    }
   },
   "outputs": [
    {
     "name": "stderr",
     "output_type": "stream",
     "text": [
      "\r",
      "  0%|          | 0/10 [00:00<?, ?it/s]"
     ]
    },
    {
     "name": "stdout",
     "output_type": "stream",
     "text": [
      "Accuracy: 0.9106971975393028\n",
      "max_depth: 1, min_samples_split: 2, min_samples_leaf: 1, criterion: gini\n"
     ]
    },
    {
     "name": "stderr",
     "output_type": "stream",
     "text": [
      "\r",
      " 10%|█         | 1/10 [00:23<03:27, 23.10s/it]"
     ]
    },
    {
     "name": "stdout",
     "output_type": "stream",
     "text": [
      "Accuracy: 0.9158920027341081\n",
      "max_depth: 2, min_samples_split: 2, min_samples_leaf: 1, criterion: gini\n",
      "Accuracy: 0.9185235816814764\n",
      "max_depth: 2, min_samples_split: 2, min_samples_leaf: 2, criterion: gini\n",
      "Accuracy: 0.9211551606288448\n",
      "max_depth: 2, min_samples_split: 2, min_samples_leaf: 7, criterion: gini\n",
      "Accuracy: 0.9237867395762132\n",
      "max_depth: 2, min_samples_split: 2, min_samples_leaf: 8, criterion: gini\n"
     ]
    },
    {
     "name": "stderr",
     "output_type": "stream",
     "text": [
      "\r",
      " 20%|██        | 2/10 [00:49<03:19, 24.88s/it]"
     ]
    },
    {
     "name": "stdout",
     "output_type": "stream",
     "text": [
      "Accuracy: 0.9265550239234448\n",
      "max_depth: 3, min_samples_split: 2, min_samples_leaf: 1, criterion: entropy\n",
      "Accuracy: 0.92904989747095\n",
      "max_depth: 3, min_samples_split: 2, min_samples_leaf: 8, criterion: entropy\n",
      "Accuracy: 0.9291524265208475\n",
      "max_depth: 3, min_samples_split: 2, min_samples_leaf: 9, criterion: entropy\n",
      "Accuracy: 0.9343472317156527\n",
      "max_depth: 3, min_samples_split: 2, min_samples_leaf: 11, criterion: entropy\n",
      "Accuracy: 0.9396103896103896\n",
      "max_depth: 3, min_samples_split: 2, min_samples_leaf: 13, criterion: entropy\n"
     ]
    },
    {
     "name": "stderr",
     "output_type": "stream",
     "text": [
      "\r",
      " 30%|███       | 3/10 [01:23<03:15, 28.00s/it]"
     ]
    },
    {
     "name": "stdout",
     "output_type": "stream",
     "text": [
      "Accuracy: 0.9422077922077922\n",
      "max_depth: 4, min_samples_split: 11, min_samples_leaf: 1, criterion: entropy\n"
     ]
    },
    {
     "name": "stderr",
     "output_type": "stream",
     "text": [
      "100%|██████████| 10/10 [05:59<00:00, 35.96s/it]\n"
     ]
    }
   ],
   "source": [
    "from tqdm import trange\n",
    "\n",
    "#for depth in range (1,11):\n",
    "for depth in trange (1,11):\n",
    "    for min_split in range(2,21):\n",
    "        for min_leaf in range(1,21):\n",
    "            for criterion in [\"gini\", \"entropy\"]:\n",
    "                clf = DecisionTreeClassifier(max_depth = depth, min_samples_split = min_split, \n",
    "                                             min_samples_leaf = min_leaf, criterion = criterion)\n",
    "                scores = cross_val_score(clf, X_train, y_train, cv = 5)\n",
    "                if scores.mean() > best_score:\n",
    "                    #print(\"New best parameters!\")\n",
    "                    parameters[\"best_depth\"] = depth\n",
    "                    parameters[\"best_min_split\"] = min_split\n",
    "                    parameters[\"best_min_leaf\"] = min_leaf\n",
    "                    parameters[\"best_criterion\"] = criterion\n",
    "                    best_score = scores.mean()\n",
    "                    print(\"Accuracy: {}\".format(scores.mean()))\n",
    "                    print(\"max_depth: {}, min_samples_split: {}, min_samples_leaf: {}, criterion: {}\".format(depth, \n",
    "                                                                                                             min_split, \n",
    "                                                                                                             min_leaf, \n",
    "                                                                                                             criterion))"
   ]
  },
  {
   "cell_type": "code",
   "execution_count": 12,
   "metadata": {
    "ExecuteTime": {
     "end_time": "2018-05-25T17:41:34.995132Z",
     "start_time": "2018-05-25T17:41:34.985199Z"
    }
   },
   "outputs": [],
   "source": [
    "clf_dtc = DecisionTreeClassifier(criterion = parameters[\"best_criterion\"], max_depth = parameters['best_depth'], \n",
    "                                 min_samples_split = parameters[\"best_min_split\"], \n",
    "                                 min_samples_leaf = parameters[\"best_min_leaf\"])"
   ]
  },
  {
   "cell_type": "code",
   "execution_count": 13,
   "metadata": {
    "ExecuteTime": {
     "end_time": "2018-05-25T17:41:35.175197Z",
     "start_time": "2018-05-25T17:41:35.000941Z"
    }
   },
   "outputs": [
    {
     "data": {
      "text/plain": [
       "DecisionTreeClassifier(class_weight=None, criterion='entropy', max_depth=4,\n",
       "            max_features=None, max_leaf_nodes=None,\n",
       "            min_impurity_decrease=0.0, min_impurity_split=None,\n",
       "            min_samples_leaf=1, min_samples_split=11,\n",
       "            min_weight_fraction_leaf=0.0, presort=False, random_state=None,\n",
       "            splitter='best')"
      ]
     },
     "execution_count": 13,
     "metadata": {},
     "output_type": "execute_result"
    }
   ],
   "source": [
    "clf_dtc.fit(X = X_train, y = y_train)"
   ]
  },
  {
   "cell_type": "code",
   "execution_count": 14,
   "metadata": {
    "ExecuteTime": {
     "end_time": "2018-05-25T17:41:35.228353Z",
     "start_time": "2018-05-25T17:41:35.182436Z"
    }
   },
   "outputs": [],
   "source": [
    "prediction_dtc = clf_dtc.predict(X_test)"
   ]
  },
  {
   "cell_type": "code",
   "execution_count": 15,
   "metadata": {
    "ExecuteTime": {
     "end_time": "2018-05-25T17:41:35.368817Z",
     "start_time": "2018-05-25T17:41:35.231440Z"
    }
   },
   "outputs": [],
   "source": [
    "results = pd.DataFrame({\"y_true\":y_test, \"y_dtc\":prediction_dtc, \"y_rfc\": prediction_rfc})"
   ]
  },
  {
   "cell_type": "code",
   "execution_count": 16,
   "metadata": {
    "ExecuteTime": {
     "end_time": "2018-05-25T17:41:35.515093Z",
     "start_time": "2018-05-25T17:41:35.376823Z"
    }
   },
   "outputs": [
    {
     "data": {
      "text/plain": [
       "(188, 3)"
      ]
     },
     "execution_count": 16,
     "metadata": {},
     "output_type": "execute_result"
    }
   ],
   "source": [
    "results.shape"
   ]
  },
  {
   "cell_type": "code",
   "execution_count": 17,
   "metadata": {
    "ExecuteTime": {
     "end_time": "2018-05-25T17:41:35.611154Z",
     "start_time": "2018-05-25T17:41:35.518304Z"
    }
   },
   "outputs": [],
   "source": [
    "from sklearn.metrics import confusion_matrix"
   ]
  },
  {
   "cell_type": "code",
   "execution_count": 18,
   "metadata": {
    "ExecuteTime": {
     "end_time": "2018-05-25T17:41:38.478808Z",
     "start_time": "2018-05-25T17:41:35.614518Z"
    }
   },
   "outputs": [],
   "source": [
    "import seaborn as sns"
   ]
  },
  {
   "cell_type": "markdown",
   "metadata": {},
   "source": [
    "# Confusion matrix Decision Tree Classifier"
   ]
  },
  {
   "cell_type": "code",
   "execution_count": 19,
   "metadata": {
    "ExecuteTime": {
     "end_time": "2018-05-25T17:41:39.575242Z",
     "start_time": "2018-05-25T17:41:38.481949Z"
    }
   },
   "outputs": [
    {
     "data": {
      "text/plain": [
       "<matplotlib.axes._subplots.AxesSubplot at 0x1a13330e10>"
      ]
     },
     "execution_count": 19,
     "metadata": {},
     "output_type": "execute_result"
    },
    {
     "data": {
      "image/png": "[encoded data removed]",
      "text/plain": [
       "<matplotlib.figure.Figure at 0x1a13261b70>"
      ]
     },
     "metadata": {},
     "output_type": "display_data"
    }
   ],
   "source": [
    "cm_dtc = confusion_matrix(y_true = results[\"y_true\"], y_pred = results[\"y_dtc\"])\n",
    "sns.heatmap(cm_dtc, annot = True, fmt=\"d\")"
   ]
  },
  {
   "cell_type": "markdown",
   "metadata": {},
   "source": [
    "# Confusion matrix Random Forest Classifier"
   ]
  },
  {
   "cell_type": "code",
   "execution_count": 20,
   "metadata": {
    "ExecuteTime": {
     "end_time": "2018-05-25T17:41:39.963592Z",
     "start_time": "2018-05-25T17:41:39.578438Z"
    }
   },
   "outputs": [
    {
     "data": {
      "text/plain": [
       "<matplotlib.axes._subplots.AxesSubplot at 0x1a1b135240>"
      ]
     },
     "execution_count": 20,
     "metadata": {},
     "output_type": "execute_result"
    },
    {
     "data": {
      "image/png": "[encoded data removed]",
      "text/plain": [
       "<matplotlib.figure.Figure at 0x1a132618d0>"
      ]
     },
     "metadata": {},
     "output_type": "display_data"
    }
   ],
   "source": [
    "cm_rfc = confusion_matrix(y_true = results[\"y_true\"], y_pred = results[\"y_rfc\"])\n",
    "sns.heatmap(cm_rfc, annot = True, fmt=\"d\")"
   ]
  }
 ],
 "metadata": {
  "kernelspec": {
   "display_name": "Python 3",
   "language": "python",
   "name": "python3"
  },
  "language_info": {
   "codemirror_mode": {
    "name": "ipython",
    "version": 3
   },
   "file_extension": ".py",
   "mimetype": "text/x-python",
   "name": "python",
   "nbconvert_exporter": "python",
   "pygments_lexer": "ipython3",
   "version": "3.6.4"
  }
 },
 "nbformat": 4,
 "nbformat_minor": 2
}
