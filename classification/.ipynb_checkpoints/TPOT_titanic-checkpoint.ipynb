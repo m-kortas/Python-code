{
 "cells": [
  {
   "cell_type": "code",
   "execution_count": 27,
   "metadata": {
    "ExecuteTime": {
     "end_time": "2018-06-02T10:28:21.709622Z",
     "start_time": "2018-06-02T10:28:20.537324Z"
    }
   },
   "outputs": [],
   "source": [
    "import pandas as pd\n",
    "from sklearn.preprocessing import Imputer\n",
    "from sklearn.preprocessing import MinMaxScaler\n",
    "from sklearn.model_selection import cross_val_score\n",
    "from sklearn.neighbors import KNeighborsClassifier\n",
    "from sklearn.metrics import accuracy_score\n",
    "from sklearn.model_selection import train_test_split\n",
    "from tpot import TPOTClassifier\n",
    "from sklearn.ensemble import ExtraTreesClassifier"
   ]
  },
  {
   "cell_type": "code",
   "execution_count": 13,
   "metadata": {
    "ExecuteTime": {
     "end_time": "2018-06-02T10:28:21.733015Z",
     "start_time": "2018-06-02T10:28:21.712757Z"
    }
   },
   "outputs": [],
   "source": [
    "train = pd.read_csv(\"titanic-train.csv\", index_col = \"PassengerId\")"
   ]
  },
  {
   "cell_type": "code",
   "execution_count": 14,
   "metadata": {
    "ExecuteTime": {
     "end_time": "2018-06-02T10:28:21.971430Z",
     "start_time": "2018-06-02T10:28:21.963896Z"
    }
   },
   "outputs": [],
   "source": [
    "pd.options.mode.chained_assignment = None  # default='warn'"
   ]
  },
  {
   "cell_type": "code",
   "execution_count": 15,
   "metadata": {
    "ExecuteTime": {
     "end_time": "2018-06-02T10:28:22.077649Z",
     "start_time": "2018-06-02T10:28:21.976930Z"
    }
   },
   "outputs": [],
   "source": [
    "X = train[[\"Pclass\", \"Sex\", \"Age\", \"SibSp\", \"Parch\", \"Fare\", \"Embarked\"]]   #def X"
   ]
  },
  {
   "cell_type": "code",
   "execution_count": 16,
   "metadata": {
    "ExecuteTime": {
     "end_time": "2018-06-02T10:28:22.209958Z",
     "start_time": "2018-06-02T10:28:22.086976Z"
    }
   },
   "outputs": [],
   "source": [
    "kolumny = X.columns   #kolumny"
   ]
  },
  {
   "cell_type": "code",
   "execution_count": 17,
   "metadata": {
    "ExecuteTime": {
     "end_time": "2018-06-02T10:28:22.314982Z",
     "start_time": "2018-06-02T10:28:22.212722Z"
    }
   },
   "outputs": [],
   "source": [
    "X[\"Sex\"] = X[\"Sex\"].astype(\"category\")\n",
    "X[\"Sex\"] = X[\"Sex\"].cat.codes      #kategorie\n",
    "\n",
    "X[\"Embarked\"] = X[\"Embarked\"].astype(\"category\")\n",
    "X[\"Embarked\"] = X[\"Embarked\"].cat.codes"
   ]
  },
  {
   "cell_type": "code",
   "execution_count": 18,
   "metadata": {
    "ExecuteTime": {
     "end_time": "2018-06-02T10:28:22.554730Z",
     "start_time": "2018-06-02T10:28:22.526110Z"
    }
   },
   "outputs": [],
   "source": [
    "imputer = Imputer(strategy = \"median\")\n",
    "X = pd.DataFrame(imputer.fit_transform(X), columns = X.columns, index = X.index)  #NAs na Mediany"
   ]
  },
  {
   "cell_type": "code",
   "execution_count": 19,
   "metadata": {
    "ExecuteTime": {
     "end_time": "2018-06-02T10:28:22.861317Z",
     "start_time": "2018-06-02T10:28:22.765165Z"
    }
   },
   "outputs": [],
   "source": [
    "X = pd.DataFrame(X, columns = kolumny)      #X"
   ]
  },
  {
   "cell_type": "code",
   "execution_count": 20,
   "metadata": {
    "ExecuteTime": {
     "end_time": "2018-06-02T10:28:23.099022Z",
     "start_time": "2018-06-02T10:28:23.074119Z"
    }
   },
   "outputs": [],
   "source": [
    "y = train[\"Survived\"]     #y"
   ]
  },
  {
   "cell_type": "code",
   "execution_count": 25,
   "metadata": {
    "ExecuteTime": {
     "end_time": "2018-06-02T10:28:23.211695Z",
     "start_time": "2018-06-02T10:28:23.112322Z"
    }
   },
   "outputs": [],
   "source": [
    "X_train, X_test, y_train, y_test = train_test_split(X, y,      #podział\n",
    "                                                    test_size=0.33, \n",
    "                                                    random_state=42)"
   ]
  },
  {
   "cell_type": "code",
   "execution_count": 28,
   "metadata": {},
   "outputs": [],
   "source": [
    "classifier = ExtraTreesClassifier(bootstrap=True, criterion=\"gini\", max_features=0.5, min_samples_leaf=2, min_samples_split=5, n_estimators=100)"
   ]
  },
  {
   "cell_type": "code",
   "execution_count": 22,
   "metadata": {
    "ExecuteTime": {
     "end_time": "2018-06-02T10:28:43.194511Z",
     "start_time": "2018-06-02T10:28:43.182873Z"
    }
   },
   "outputs": [
    {
     "name": "stdout",
     "output_type": "stream",
     "text": [
      "Warning: xgboost.XGBClassifier is not available and will not be used by TPOT.\n"
     ]
    }
   ],
   "source": [
    "\"\"\"classifier = TPOTClassifier(generations=100, \n",
    "                            population_size=100, \n",
    "                            verbosity=2, \n",
    "                            random_state=42, \n",
    "                            periodic_checkpoint_folder = \"../output/\", \n",
    "                            #config_dict = classifier_config,\n",
    "                            early_stop = 10)\"\"\""
   ]
  },
  {
   "cell_type": "code",
   "execution_count": 30,
   "metadata": {
    "ExecuteTime": {
     "end_time": "2018-06-02T10:28:43.329271Z",
     "start_time": "2018-06-02T10:28:43.203444Z"
    }
   },
   "outputs": [
    {
     "data": {
      "text/plain": [
       "ExtraTreesClassifier(bootstrap=True, class_weight=None, criterion='gini',\n",
       "           max_depth=None, max_features=0.5, max_leaf_nodes=None,\n",
       "           min_impurity_decrease=0.0, min_impurity_split=None,\n",
       "           min_samples_leaf=2, min_samples_split=5,\n",
       "           min_weight_fraction_leaf=0.0, n_estimators=100, n_jobs=1,\n",
       "           oob_score=False, random_state=None, verbose=0, warm_start=False)"
      ]
     },
     "execution_count": 30,
     "metadata": {},
     "output_type": "execute_result"
    }
   ],
   "source": [
    "classifier.fit(X_train, y_train)  #fit"
   ]
  },
  {
   "cell_type": "code",
   "execution_count": 31,
   "metadata": {
    "ExecuteTime": {
     "end_time": "2018-06-02T10:28:43.616576Z",
     "start_time": "2018-06-02T10:28:43.431046Z"
    }
   },
   "outputs": [
    {
     "data": {
      "text/plain": [
       "0.7966101694915254"
      ]
     },
     "execution_count": 31,
     "metadata": {},
     "output_type": "execute_result"
    }
   ],
   "source": [
    "accuracy_score(y_true=y_test, y_pred=classifier.predict(X_test)) #acc"
   ]
  },
  {
   "cell_type": "code",
   "execution_count": null,
   "metadata": {},
   "outputs": [],
   "source": []
  }
 ],
 "metadata": {
  "kernelspec": {
   "display_name": "Python 3",
   "language": "python",
   "name": "python3"
  },
  "language_info": {
   "codemirror_mode": {
    "name": "ipython",
    "version": 3
   },
   "file_extension": ".py",
   "mimetype": "text/x-python",
   "name": "python",
   "nbconvert_exporter": "python",
   "pygments_lexer": "ipython3",
   "version": "3.6.4"
  }
 },
 "nbformat": 4,
 "nbformat_minor": 2
}
