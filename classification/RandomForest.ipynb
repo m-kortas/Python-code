{
 "cells": [
  {
   "cell_type": "code",
   "execution_count": 1,
   "metadata": {
    "ExecuteTime": {
     "end_time": "2018-05-25T17:42:02.232190Z",
     "start_time": "2018-05-25T17:42:01.158021Z"
    }
   },
   "outputs": [],
   "source": [
    "from sklearn.datasets import load_breast_cancer\n",
    "breast = load_breast_cancer()\n",
    "import pandas as pd\n",
    "X = pd.DataFrame(breast[\"data\"], columns = breast[\"feature_names\"])\n",
    "y = pd.Series(breast[\"target\"])"
   ]
  },
  {
   "cell_type": "code",
   "execution_count": 2,
   "metadata": {
    "ExecuteTime": {
     "end_time": "2018-05-25T17:42:02.278635Z",
     "start_time": "2018-05-25T17:42:02.238935Z"
    }
   },
   "outputs": [],
   "source": [
    "from sklearn.model_selection import train_test_split\n",
    "X_train, X_test, y_train, y_test = train_test_split(X, y, \n",
    "                                                    test_size=0.33, random_state=42)"
   ]
  },
  {
   "cell_type": "markdown",
   "metadata": {},
   "source": [
    "# Random Forest Classifier"
   ]
  },
  {
   "cell_type": "code",
   "execution_count": 3,
   "metadata": {
    "ExecuteTime": {
     "end_time": "2018-05-25T17:42:02.510427Z",
     "start_time": "2018-05-25T17:42:02.282159Z"
    }
   },
   "outputs": [],
   "source": [
    "from sklearn.ensemble import RandomForestClassifier"
   ]
  },
  {
   "cell_type": "code",
   "execution_count": 4,
   "metadata": {
    "ExecuteTime": {
     "end_time": "2018-05-25T17:42:02.580216Z",
     "start_time": "2018-05-25T17:42:02.518987Z"
    }
   },
   "outputs": [],
   "source": [
    "from sklearn.model_selection import cross_val_score"
   ]
  },
  {
   "cell_type": "code",
   "execution_count": 18,
   "metadata": {
    "ExecuteTime": {
     "end_time": "2018-05-25T17:42:02.721375Z",
     "start_time": "2018-05-25T17:42:02.584270Z"
    }
   },
   "outputs": [],
   "source": [
    "best_score = 0\n",
    "parameters = {}"
   ]
  },
  {
   "cell_type": "code",
   "execution_count": 19,
   "metadata": {
    "ExecuteTime": {
     "end_time": "2018-05-25T17:56:25.578561Z",
     "start_time": "2018-05-25T17:42:02.724498Z"
    }
   },
   "outputs": [
    {
     "name": "stderr",
     "output_type": "stream",
     "text": [
      "\r",
      "  0%|          | 0/10 [00:00<?, ?it/s]"
     ]
    },
    {
     "name": "stdout",
     "output_type": "stream",
     "text": [
      "Accuracy: 0.9605946684894053\n",
      "min_samples_split: 2, min_samples_leaf: 1, criterion: gini, bootstrap: True\n"
     ]
    },
    {
     "name": "stderr",
     "output_type": "stream",
     "text": [
      " 30%|███       | 3/10 [03:57<09:13, 79.03s/it]"
     ]
    },
    {
     "name": "stdout",
     "output_type": "stream",
     "text": [
      "Accuracy: 0.9658236500341764\n",
      "min_samples_split: 8, min_samples_leaf: 1, criterion: entropy, bootstrap: False\n"
     ]
    },
    {
     "name": "stderr",
     "output_type": "stream",
     "text": [
      "\r",
      " 40%|████      | 4/10 [05:12<07:48, 78.08s/it]"
     ]
    },
    {
     "name": "stdout",
     "output_type": "stream",
     "text": [
      "Accuracy: 0.9658578263841422\n",
      "min_samples_split: 10, min_samples_leaf: 3, criterion: entropy, bootstrap: False\n"
     ]
    },
    {
     "name": "stderr",
     "output_type": "stream",
     "text": [
      "100%|██████████| 10/10 [11:32<00:00, 69.24s/it]\n"
     ]
    }
   ],
   "source": [
    "from tqdm import trange\n",
    "import numpy as np\n",
    "\n",
    "for min_split in trange(2,21,2):\n",
    "    for min_leaf in range(1,21,2):\n",
    "        for criterion in [\"gini\", \"entropy\"]:\n",
    "            for bootstrap in [True, False]:\n",
    "                clf = RandomForestClassifier(min_samples_split = min_split, min_samples_leaf = min_leaf, \n",
    "                                             criterion = criterion, bootstrap = bootstrap, \n",
    "                                             n_estimators = 100)\n",
    "                scores = cross_val_score(clf, X_train, y_train, cv = 5)\n",
    "                if scores.mean() > best_score:\n",
    "                    parameters[\"best_min_split\"] = min_split\n",
    "                    parameters[\"best_min_leaf\"] = min_leaf\n",
    "                    parameters[\"best_criterion\"] = criterion\n",
    "                    parameters[\"best_bootstrap\"] = bootstrap\n",
    "                    best_score = scores.mean()\n",
    "                    print(\"Accuracy: {}\".format(scores.mean()))\n",
    "                    print(\"min_samples_split: {},\" \\\n",
    "                          \" min_samples_leaf: {}, criterion: {},\" \\\n",
    "                          \" bootstrap: {}\".format(min_split, min_leaf, criterion, \n",
    "                                                                     bootstrap))"
   ]
  },
  {
   "cell_type": "code",
   "execution_count": 20,
   "metadata": {
    "ExecuteTime": {
     "end_time": "2018-05-25T17:56:25.596214Z",
     "start_time": "2018-05-25T17:56:25.587401Z"
    }
   },
   "outputs": [],
   "source": [
    "clf_rfc = RandomForestClassifier(criterion = parameters[\"best_criterion\"], \n",
    "                                 min_samples_split = parameters[\"best_min_split\"], \n",
    "                                 min_samples_leaf = parameters[\"best_min_leaf\"], \n",
    "                                 bootstrap = parameters[\"best_bootstrap\"], n_estimators = 100)"
   ]
  },
  {
   "cell_type": "code",
   "execution_count": 21,
   "metadata": {
    "ExecuteTime": {
     "end_time": "2018-05-25T17:56:26.592989Z",
     "start_time": "2018-05-25T17:56:25.602876Z"
    }
   },
   "outputs": [
    {
     "data": {
      "text/plain": [
       "RandomForestClassifier(bootstrap=False, class_weight=None,\n",
       "            criterion='entropy', max_depth=None, max_features='auto',\n",
       "            max_leaf_nodes=None, min_impurity_decrease=0.0,\n",
       "            min_impurity_split=None, min_samples_leaf=3,\n",
       "            min_samples_split=10, min_weight_fraction_leaf=0.0,\n",
       "            n_estimators=100, n_jobs=1, oob_score=False, random_state=None,\n",
       "            verbose=0, warm_start=False)"
      ]
     },
     "execution_count": 21,
     "metadata": {},
     "output_type": "execute_result"
    }
   ],
   "source": [
    "clf_rfc.fit(X = X_train, y = y_train)"
   ]
  },
  {
   "cell_type": "code",
   "execution_count": 22,
   "metadata": {
    "ExecuteTime": {
     "end_time": "2018-05-25T17:56:26.637605Z",
     "start_time": "2018-05-25T17:56:26.610040Z"
    }
   },
   "outputs": [],
   "source": [
    "prediction_rfc = clf_rfc.predict(X_test)"
   ]
  },
  {
   "cell_type": "code",
   "execution_count": 23,
   "metadata": {
    "ExecuteTime": {
     "end_time": "2018-05-25T17:56:26.743089Z",
     "start_time": "2018-05-25T17:56:26.648650Z"
    }
   },
   "outputs": [],
   "source": [
    "results = pd.DataFrame({\"y_true\":y_test, \"y_rfc\": prediction_rfc})"
   ]
  },
  {
   "cell_type": "code",
   "execution_count": 24,
   "metadata": {
    "ExecuteTime": {
     "end_time": "2018-05-25T17:56:26.869126Z",
     "start_time": "2018-05-25T17:56:26.754694Z"
    }
   },
   "outputs": [
    {
     "data": {
      "text/plain": [
       "(188, 2)"
      ]
     },
     "execution_count": 24,
     "metadata": {},
     "output_type": "execute_result"
    }
   ],
   "source": [
    "results.shape"
   ]
  },
  {
   "cell_type": "code",
   "execution_count": 25,
   "metadata": {
    "ExecuteTime": {
     "end_time": "2018-05-25T17:56:26.959460Z",
     "start_time": "2018-05-25T17:56:26.877039Z"
    }
   },
   "outputs": [],
   "source": [
    "from sklearn.metrics import confusion_matrix"
   ]
  },
  {
   "cell_type": "code",
   "execution_count": 26,
   "metadata": {
    "ExecuteTime": {
     "end_time": "2018-05-25T17:56:27.494563Z",
     "start_time": "2018-05-25T17:56:26.962987Z"
    }
   },
   "outputs": [],
   "source": [
    "import seaborn as sns"
   ]
  },
  {
   "cell_type": "markdown",
   "metadata": {},
   "source": [
    "# Confusion matrix Random Forest Classifier"
   ]
  },
  {
   "cell_type": "code",
   "execution_count": 27,
   "metadata": {
    "ExecuteTime": {
     "end_time": "2018-05-25T17:56:27.824262Z",
     "start_time": "2018-05-25T17:56:27.497372Z"
    }
   },
   "outputs": [
    {
     "data": {
      "text/plain": [
       "<matplotlib.axes._subplots.AxesSubplot at 0x1a0c785710>"
      ]
     },
     "execution_count": 27,
     "metadata": {},
     "output_type": "execute_result"
    },
    {
     "data": {
      "image/png": "[encoded data removed]",
      "text/plain": [
       "<matplotlib.figure.Figure at 0x1a153759e8>"
      ]
     },
     "metadata": {},
     "output_type": "display_data"
    }
   ],
   "source": [
    "cm_rfc = confusion_matrix(y_true = results[\"y_true\"], y_pred = results[\"y_rfc\"])\n",
    "sns.heatmap(cm_rfc, annot = True, fmt=\"d\")"
   ]
  },
  {
   "cell_type": "code",
   "execution_count": 28,
   "metadata": {
    "ExecuteTime": {
     "end_time": "2018-05-25T17:56:27.841613Z",
     "start_time": "2018-05-25T17:56:27.832887Z"
    }
   },
   "outputs": [],
   "source": [
    "clf_rfc = RandomForestClassifier(criterion = parameters[\"best_criterion\"], \n",
    "                                 min_samples_split = parameters[\"best_min_split\"], \n",
    "                                 min_samples_leaf = parameters[\"best_min_leaf\"], \n",
    "                                 bootstrap = True, n_estimators = 100, oob_score=True)"
   ]
  },
  {
   "cell_type": "code",
   "execution_count": 29,
   "metadata": {
    "ExecuteTime": {
     "end_time": "2018-05-25T17:56:28.519364Z",
     "start_time": "2018-05-25T17:56:27.851504Z"
    }
   },
   "outputs": [
    {
     "data": {
      "text/plain": [
       "RandomForestClassifier(bootstrap=True, class_weight=None, criterion='entropy',\n",
       "            max_depth=None, max_features='auto', max_leaf_nodes=None,\n",
       "            min_impurity_decrease=0.0, min_impurity_split=None,\n",
       "            min_samples_leaf=3, min_samples_split=10,\n",
       "            min_weight_fraction_leaf=0.0, n_estimators=100, n_jobs=1,\n",
       "            oob_score=True, random_state=None, verbose=0, warm_start=False)"
      ]
     },
     "execution_count": 29,
     "metadata": {},
     "output_type": "execute_result"
    }
   ],
   "source": [
    "clf_rfc.fit(X = X_train, y = y_train)"
   ]
  },
  {
   "cell_type": "code",
   "execution_count": 30,
   "metadata": {
    "ExecuteTime": {
     "end_time": "2018-05-25T17:56:28.535884Z",
     "start_time": "2018-05-25T17:56:28.526565Z"
    }
   },
   "outputs": [
    {
     "data": {
      "text/plain": [
       "0.9422572178477691"
      ]
     },
     "execution_count": 30,
     "metadata": {},
     "output_type": "execute_result"
    }
   ],
   "source": [
    "clf_rfc.oob_score_"
   ]
  },
  {
   "cell_type": "code",
   "execution_count": null,
   "metadata": {},
   "outputs": [],
   "source": []
  }
 ],
 "metadata": {
  "kernelspec": {
   "display_name": "Python 3",
   "language": "python",
   "name": "python3"
  },
  "language_info": {
   "codemirror_mode": {
    "name": "ipython",
    "version": 3
   },
   "file_extension": ".py",
   "mimetype": "text/x-python",
   "name": "python",
   "nbconvert_exporter": "python",
   "pygments_lexer": "ipython3",
   "version": "3.6.4"
  }
 },
 "nbformat": 4,
 "nbformat_minor": 2
}
