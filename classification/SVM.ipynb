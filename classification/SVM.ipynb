{
 "cells": [
  {
   "cell_type": "code",
   "execution_count": 1,
   "metadata": {
    "ExecuteTime": {
     "end_time": "2018-05-25T17:49:42.252650Z",
     "start_time": "2018-05-25T17:49:41.402733Z"
    }
   },
   "outputs": [],
   "source": [
    "%matplotlib inline"
   ]
  },
  {
   "cell_type": "code",
   "execution_count": 2,
   "metadata": {
    "ExecuteTime": {
     "end_time": "2018-05-25T17:49:43.174665Z",
     "start_time": "2018-05-25T17:49:42.263148Z"
    }
   },
   "outputs": [],
   "source": [
    "from sklearn.datasets import load_breast_cancer\n",
    "breast = load_breast_cancer()\n",
    "import pandas as pd\n",
    "X = pd.DataFrame(breast[\"data\"], columns = breast[\"feature_names\"])\n",
    "y = pd.Series(breast[\"target\"])"
   ]
  },
  {
   "cell_type": "code",
   "execution_count": 3,
   "metadata": {
    "ExecuteTime": {
     "end_time": "2018-05-25T17:49:43.242513Z",
     "start_time": "2018-05-25T17:49:43.185479Z"
    }
   },
   "outputs": [],
   "source": [
    "from sklearn.model_selection import train_test_split\n",
    "X_train, X_test, y_train, y_test = train_test_split(X, y, \n",
    "                                                    test_size=0.33, random_state=42)"
   ]
  },
  {
   "cell_type": "code",
   "execution_count": 4,
   "metadata": {
    "ExecuteTime": {
     "end_time": "2018-05-25T17:49:43.944113Z",
     "start_time": "2018-05-25T17:49:43.257735Z"
    }
   },
   "outputs": [],
   "source": [
    "from sklearn.svm import LinearSVC"
   ]
  },
  {
   "cell_type": "code",
   "execution_count": 5,
   "metadata": {
    "ExecuteTime": {
     "end_time": "2018-05-25T17:49:43.990729Z",
     "start_time": "2018-05-25T17:49:43.970959Z"
    }
   },
   "outputs": [],
   "source": [
    "from sklearn.model_selection import cross_val_score"
   ]
  },
  {
   "cell_type": "code",
   "execution_count": 6,
   "metadata": {
    "ExecuteTime": {
     "end_time": "2018-05-25T17:49:44.101571Z",
     "start_time": "2018-05-25T17:49:44.005348Z"
    }
   },
   "outputs": [],
   "source": [
    "best_score = 0\n",
    "parameters = {}"
   ]
  },
  {
   "cell_type": "code",
   "execution_count": 7,
   "metadata": {
    "ExecuteTime": {
     "end_time": "2018-05-25T17:50:55.955721Z",
     "start_time": "2018-05-25T17:49:44.113049Z"
    }
   },
   "outputs": [
    {
     "name": "stdout",
     "output_type": "stream",
     "text": [
      "Accuracy: 0.9003075871496924\n",
      "C: 0.0001, tol: 1e-05, dual: True, penalty: l2, loss: hinge\n",
      "Accuracy: 0.9055365686944634\n",
      "C: 0.0001, tol: 1e-05, dual: True, penalty: l2, loss: squared_hinge\n",
      "Accuracy: 0.9081681476418317\n",
      "C: 0.0001, tol: 0.001, dual: True, penalty: l2, loss: squared_hinge\n",
      "Accuracy: 0.9107997265892003\n",
      "C: 0.001, tol: 1e-05, dual: True, penalty: l2, loss: squared_hinge\n",
      "Accuracy: 0.9133971291866029\n",
      "C: 0.001, tol: 0.001, dual: False, penalty: l2, loss: squared_hinge\n",
      "Accuracy: 0.9134313055365686\n",
      "C: 0.001, tol: 0.01, dual: True, penalty: l2, loss: squared_hinge\n",
      "Accuracy: 0.9134654818865346\n",
      "C: 0.001, tol: 0.1, dual: True, penalty: l2, loss: squared_hinge\n",
      "Accuracy: 0.9291182501708818\n",
      "C: 0.01, tol: 1e-05, dual: False, penalty: l2, loss: squared_hinge\n",
      "Accuracy: 0.9317840054682159\n",
      "C: 0.1, tol: 1e-05, dual: False, penalty: l1, loss: squared_hinge\n",
      "Accuracy: 0.9396787423103212\n",
      "C: 0.1, tol: 1e-05, dual: False, penalty: l2, loss: squared_hinge\n",
      "Accuracy: 0.9474709501025289\n",
      "C: 0.5, tol: 1e-05, dual: False, penalty: l1, loss: squared_hinge\n",
      "Accuracy: 0.9526999316472999\n",
      "C: 0.5, tol: 1e-05, dual: False, penalty: l2, loss: squared_hinge\n",
      "Accuracy: 0.9553656869446343\n",
      "C: 1.0, tol: 1e-05, dual: False, penalty: l1, loss: squared_hinge\n",
      "Accuracy: 0.9659603554340397\n",
      "C: 5.0, tol: 1e-05, dual: False, penalty: l1, loss: squared_hinge\n",
      "Accuracy: 0.9684552289815448\n",
      "C: 10.0, tol: 0.01, dual: False, penalty: l1, loss: squared_hinge\n",
      "Accuracy: 0.9684894053315105\n",
      "C: 15.0, tol: 0.01, dual: False, penalty: l1, loss: squared_hinge\n",
      "Accuracy: 0.971120984278879\n",
      "C: 20.0, tol: 0.01, dual: False, penalty: l1, loss: squared_hinge\n"
     ]
    }
   ],
   "source": [
    "for C in [1e-4, 1e-3, 1e-2, 1e-1, 0.5, 1., 5., 10., 15., 20., 25.]:\n",
    "    for tol in [1e-5, 1e-4, 1e-3, 1e-2, 1e-1]:\n",
    "        for dual in [True, False]:\n",
    "            for penalty in [\"l1\", \"l2\"]:\n",
    "                for loss in [\"hinge\", \"squared_hinge\"]:\n",
    "                    clf = LinearSVC(C = C, tol = tol, dual = dual, penalty = penalty, loss = loss)\n",
    "                    try:\n",
    "                        scores = cross_val_score(clf, X_train, y_train, cv = 5)\n",
    "                    except ValueError as e:\n",
    "                        #print(e)\n",
    "                        continue\n",
    "                    if scores.mean() > best_score:\n",
    "                        parameters[\"C\"] = C\n",
    "                        parameters[\"tol\"] = tol\n",
    "                        parameters[\"dual\"] = dual\n",
    "                        parameters[\"penalty\"] = penalty\n",
    "                        parameters[\"loss\"] = loss\n",
    "                        best_score = scores.mean()\n",
    "                        print(\"Accuracy: {}\".format(scores.mean()))\n",
    "                        print(\"C: {}, tol: {}, dual: {}, penalty: {}, loss: {}\".format(C, tol, dual, penalty, loss))"
   ]
  },
  {
   "cell_type": "code",
   "execution_count": 8,
   "metadata": {
    "ExecuteTime": {
     "end_time": "2018-05-25T17:50:55.987876Z",
     "start_time": "2018-05-25T17:50:55.958854Z"
    }
   },
   "outputs": [],
   "source": [
    "clf = LinearSVC(C = parameters[\"C\"], tol = parameters[\"tol\"], dual = parameters[\"dual\"], penalty = parameters[\"penalty\"], \n",
    "                loss = parameters[\"loss\"])\n"
   ]
  },
  {
   "cell_type": "code",
   "execution_count": 9,
   "metadata": {
    "ExecuteTime": {
     "end_time": "2018-05-25T17:50:56.348736Z",
     "start_time": "2018-05-25T17:50:55.993755Z"
    }
   },
   "outputs": [
    {
     "data": {
      "text/plain": [
       "LinearSVC(C=20.0, class_weight=None, dual=False, fit_intercept=True,\n",
       "     intercept_scaling=1, loss='squared_hinge', max_iter=1000,\n",
       "     multi_class='ovr', penalty='l1', random_state=None, tol=0.01,\n",
       "     verbose=0)"
      ]
     },
     "execution_count": 9,
     "metadata": {},
     "output_type": "execute_result"
    }
   ],
   "source": [
    "clf.fit(X_train, y_train)"
   ]
  },
  {
   "cell_type": "code",
   "execution_count": 10,
   "metadata": {
    "ExecuteTime": {
     "end_time": "2018-05-25T17:50:56.879010Z",
     "start_time": "2018-05-25T17:50:56.358306Z"
    }
   },
   "outputs": [
    {
     "data": {
      "text/plain": [
       "<matplotlib.axes._subplots.AxesSubplot at 0x1a12c5f240>"
      ]
     },
     "execution_count": 10,
     "metadata": {},
     "output_type": "execute_result"
    },
    {
     "data": {
      "image/png": "[encoded data removed]",
      "text/plain": [
       "<matplotlib.figure.Figure at 0x1a0a9651d0>"
      ]
     },
     "metadata": {},
     "output_type": "display_data"
    }
   ],
   "source": [
    "import seaborn as sns\n",
    "from sklearn.metrics import confusion_matrix\n",
    "\n",
    "sns.heatmap(confusion_matrix(y_true = y_test, y_pred = clf.predict(X_test)), annot = True, fmt=\"d\")"
   ]
  },
  {
   "cell_type": "code",
   "execution_count": null,
   "metadata": {},
   "outputs": [],
   "source": []
  },
  {
   "cell_type": "code",
   "execution_count": null,
   "metadata": {},
   "outputs": [],
   "source": []
  },
  {
   "cell_type": "code",
   "execution_count": null,
   "metadata": {},
   "outputs": [],
   "source": []
  }
 ],
 "metadata": {
  "kernelspec": {
   "display_name": "Python 3",
   "language": "python",
   "name": "python3"
  },
  "language_info": {
   "codemirror_mode": {
    "name": "ipython",
    "version": 3
   },
   "file_extension": ".py",
   "mimetype": "text/x-python",
   "name": "python",
   "nbconvert_exporter": "python",
   "pygments_lexer": "ipython3",
   "version": "3.6.4"
  }
 },
 "nbformat": 4,
 "nbformat_minor": 2
}
