{
 "cells": [
  {
   "cell_type": "markdown",
   "metadata": {
    "ExecuteTime": {
     "end_time": "2018-07-15T06:20:24.669004Z",
     "start_time": "2018-07-15T06:20:24.662610Z"
    }
   },
   "source": [
    "## Python powtórka"
   ]
  },
  {
   "cell_type": "code",
   "execution_count": 1,
   "metadata": {
    "ExecuteTime": {
     "end_time": "2018-07-15T06:21:54.609906Z",
     "start_time": "2018-07-15T06:21:54.590829Z"
    }
   },
   "outputs": [
    {
     "name": "stdout",
     "output_type": "stream",
     "text": [
      "ALA MA KOTA\n",
      "Ala ma kota\n"
     ]
    }
   ],
   "source": [
    "x = \"Ala ma kota\"\n",
    "\n",
    "print(x.upper()) \n",
    "print(x)"
   ]
  },
  {
   "cell_type": "code",
   "execution_count": 2,
   "metadata": {
    "ExecuteTime": {
     "end_time": "2018-07-15T06:27:36.524263Z",
     "start_time": "2018-07-15T06:27:36.519825Z"
    }
   },
   "outputs": [],
   "source": [
    "zamowienie ={\n",
    "    \"Ewa\": {'pączki': 2},\n",
    "    \"Arek\": {'napoleonka': 1},\n",
    "    \"Marta\": {'rurka': 3, 'amerykanka': 1}\n",
    "}"
   ]
  },
  {
   "cell_type": "code",
   "execution_count": 3,
   "metadata": {
    "ExecuteTime": {
     "end_time": "2018-07-15T06:44:38.371013Z",
     "start_time": "2018-07-15T06:44:38.364216Z"
    }
   },
   "outputs": [
    {
     "name": "stdout",
     "output_type": "stream",
     "text": [
      "dict_keys(['Ewa', 'Arek', 'Marta'])\n",
      "dict_values([{'pączki': 2}, {'napoleonka': 1}, {'rurka': 3, 'amerykanka': 1}])\n",
      "dict_items([('Ewa', {'pączki': 2}), ('Arek', {'napoleonka': 1}), ('Marta', {'rurka': 3, 'amerykanka': 1})])\n"
     ]
    }
   ],
   "source": [
    "print(zamowienie.keys())\n",
    "print(zamowienie.values())\n",
    "print(zamowienie.items())"
   ]
  },
  {
   "cell_type": "code",
   "execution_count": 4,
   "metadata": {
    "ExecuteTime": {
     "end_time": "2018-07-15T07:04:58.004383Z",
     "start_time": "2018-07-15T07:04:57.996547Z"
    }
   },
   "outputs": [
    {
     "name": "stdout",
     "output_type": "stream",
     "text": [
      "Ewa-{'pączki': 2}\n",
      "Arek-{'napoleonka': 1}\n",
      "Marta-{'rurka': 3, 'amerykanka': 1}\n"
     ]
    }
   ],
   "source": [
    "for key in zamowienie.keys():\n",
    "    print(f'{key}-{zamowienie[key]}')   "
   ]
  },
  {
   "cell_type": "code",
   "execution_count": 5,
   "metadata": {
    "ExecuteTime": {
     "end_time": "2018-07-15T07:44:10.776765Z",
     "start_time": "2018-07-15T07:44:10.767932Z"
    }
   },
   "outputs": [
    {
     "name": "stdout",
     "output_type": "stream",
     "text": [
      "Ewa\n",
      "{'pączki': 2}\n",
      "Arek\n",
      "{'napoleonka': 1}\n",
      "Marta\n",
      "{'rurka': 3, 'amerykanka': 1}\n"
     ]
    }
   ],
   "source": [
    "for k, e in zamowienie.items():\n",
    "    print(k)\n",
    "    print(e)"
   ]
  },
  {
   "cell_type": "code",
   "execution_count": 6,
   "metadata": {},
   "outputs": [
    {
     "name": "stdout",
     "output_type": "stream",
     "text": [
      "('Ewa', {'pączki': 2})\n",
      "('Arek', {'napoleonka': 1})\n",
      "('Marta', {'rurka': 3, 'amerykanka': 1})\n"
     ]
    }
   ],
   "source": [
    "for wpis in zamowienie.items():\n",
    "    print(wpis)"
   ]
  },
  {
   "cell_type": "code",
   "execution_count": 7,
   "metadata": {},
   "outputs": [
    {
     "name": "stdout",
     "output_type": "stream",
     "text": [
      "Ewa-{'pączki': 2}\n",
      "Arek-{'napoleonka': 1}\n",
      "Marta-{'rurka': 3, 'amerykanka': 1}\n"
     ]
    }
   ],
   "source": [
    "for imie, szcze_zamowienia in zamowienie.items():\n",
    "    print(f\"{imie}-{szcze_zamowienia}\")"
   ]
  },
  {
   "cell_type": "code",
   "execution_count": 8,
   "metadata": {
    "ExecuteTime": {
     "end_time": "2018-07-15T08:05:22.887897Z",
     "start_time": "2018-07-15T08:05:22.872698Z"
    }
   },
   "outputs": [
    {
     "name": "stdout",
     "output_type": "stream",
     "text": [
      "{   'Arek': {'napoleonka': 1},\n",
      "    'Ewa': {'pączki': 2},\n",
      "    'Marta': {'amerykanka': 1, 'rurka': 3},\n",
      "    'Wojtek': {'brownie': 2}}\n"
     ]
    }
   ],
   "source": [
    "from pprint import pprint\n",
    "\n",
    "zamowienie['Wojtek']= {'brownie':2}\n",
    "pprint(zamowienie, indent= 4)"
   ]
  },
  {
   "cell_type": "code",
   "execution_count": 9,
   "metadata": {},
   "outputs": [
    {
     "name": "stdout",
     "output_type": "stream",
     "text": [
      "{   'Arek': {'napoleonka': 1},\n",
      "    'Ewa': {'pączki': 2},\n",
      "    'Marta': {'amerykanka': 1, 'rurka': 3}}\n"
     ]
    }
   ],
   "source": [
    "del zamowienie['Wojtek']\n",
    "pprint(zamowienie, indent= 4)"
   ]
  },
  {
   "cell_type": "code",
   "execution_count": 10,
   "metadata": {},
   "outputs": [],
   "source": [
    "del zamowienie['Marta']['amerykanka']\n"
   ]
  },
  {
   "cell_type": "code",
   "execution_count": 11,
   "metadata": {},
   "outputs": [],
   "source": [
    "zamowienie['Marta']['rurka']= 4"
   ]
  },
  {
   "cell_type": "code",
   "execution_count": 12,
   "metadata": {},
   "outputs": [
    {
     "name": "stdout",
     "output_type": "stream",
     "text": [
      "{   'Arek': {'napoleonka': 1},\n",
      "    'Ewa': {'pączki': 2},\n",
      "    'Marta': {'rurka': 4},\n",
      "    'Ola': {'brownie': 1}}\n"
     ]
    }
   ],
   "source": [
    "zamowienie2 = {'Ola': {'brownie': 1}}\n",
    "zamowienie.update(zamowienie2)\n",
    "pprint(zamowienie, indent= 4)"
   ]
  },
  {
   "cell_type": "code",
   "execution_count": 13,
   "metadata": {
    "ExecuteTime": {
     "end_time": "2018-07-15T08:24:47.922641Z",
     "start_time": "2018-07-15T08:24:47.914994Z"
    }
   },
   "outputs": [
    {
     "name": "stdout",
     "output_type": "stream",
     "text": [
      "[[1, 'Mateusz', 'brownie', 3, 3.3],\n",
      " [2, 'Arek', 'napoleonka', 2, 4.4],\n",
      " [3, 'Jan', 'paczek', 1, None]]\n"
     ]
    }
   ],
   "source": [
    "zamowienie= [] \n",
    "\n",
    "zam_1= [1, 'Mateusz', 'brownie', 3, 3.30]\n",
    "zamowienie.append(zam_1)\n",
    "zam_2= [2, 'Arek', 'napoleonka', 2, 4.40]\n",
    "zamowienie.append(zam_2)\n",
    "zam_3= [3, 'Jan', 'paczek', 1, None]\n",
    "zamowienie.append(zam_3)\n",
    "\n",
    "pprint(zamowienie)"
   ]
  },
  {
   "cell_type": "code",
   "execution_count": null,
   "metadata": {},
   "outputs": [],
   "source": []
  }
 ],
 "metadata": {
  "kernelspec": {
   "display_name": "Python 3",
   "language": "python",
   "name": "python3"
  },
  "language_info": {
   "codemirror_mode": {
    "name": "ipython",
    "version": 3
   },
   "file_extension": ".py",
   "mimetype": "text/x-python",
   "name": "python",
   "nbconvert_exporter": "python",
   "pygments_lexer": "ipython3",
   "version": "3.6.4"
  }
 },
 "nbformat": 4,
 "nbformat_minor": 2
}
