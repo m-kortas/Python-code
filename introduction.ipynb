{
 "cells": [
  {
   "cell_type": "code",
   "execution_count": 1,
   "metadata": {},
   "outputs": [
    {
     "data": {
      "text/plain": [
       "4"
      ]
     },
     "execution_count": 1,
     "metadata": {},
     "output_type": "execute_result"
    }
   ],
   "source": [
    "2+2"
   ]
  },
  {
   "cell_type": "markdown",
   "metadata": {},
   "source": [
    "2+2"
   ]
  },
  {
   "cell_type": "code",
   "execution_count": 2,
   "metadata": {},
   "outputs": [
    {
     "data": {
      "text/plain": [
       "4"
      ]
     },
     "execution_count": 2,
     "metadata": {},
     "output_type": "execute_result"
    }
   ],
   "source": [
    "2+2"
   ]
  },
  {
   "cell_type": "code",
   "execution_count": 3,
   "metadata": {},
   "outputs": [],
   "source": [
    "napis = \"infoShare\""
   ]
  },
  {
   "cell_type": "code",
   "execution_count": 4,
   "metadata": {},
   "outputs": [],
   "source": [
    "lista = [2, \"fajnie\", napis]"
   ]
  },
  {
   "cell_type": "code",
   "execution_count": 5,
   "metadata": {},
   "outputs": [
    {
     "data": {
      "text/plain": [
       "'infoShare'"
      ]
     },
     "execution_count": 5,
     "metadata": {},
     "output_type": "execute_result"
    }
   ],
   "source": [
    "napis"
   ]
  },
  {
   "cell_type": "code",
   "execution_count": 6,
   "metadata": {},
   "outputs": [
    {
     "data": {
      "text/plain": [
       "[2, 'fajnie', 'infoShare']"
      ]
     },
     "execution_count": 6,
     "metadata": {},
     "output_type": "execute_result"
    }
   ],
   "source": [
    "lista"
   ]
  },
  {
   "cell_type": "code",
   "execution_count": 7,
   "metadata": {},
   "outputs": [
    {
     "data": {
      "text/plain": [
       "(2, 'fajnie', 'infoShare')"
      ]
     },
     "execution_count": 7,
     "metadata": {},
     "output_type": "execute_result"
    }
   ],
   "source": [
    "krotka = (2, \"fajnie\", napis)\n",
    "krotka"
   ]
  },
  {
   "cell_type": "code",
   "execution_count": 8,
   "metadata": {},
   "outputs": [
    {
     "data": {
      "text/plain": [
       "{2.1, 'fajnie', 'infoShare'}"
      ]
     },
     "execution_count": 8,
     "metadata": {},
     "output_type": "execute_result"
    }
   ],
   "source": [
    "zbior = {2.1, \"fajnie\", napis}\n",
    "zbior"
   ]
  },
  {
   "cell_type": "code",
   "execution_count": 10,
   "metadata": {},
   "outputs": [
    {
     "data": {
      "text/plain": [
       "{3: 5, 'klucz': 'wartosc'}"
      ]
     },
     "execution_count": 10,
     "metadata": {},
     "output_type": "execute_result"
    }
   ],
   "source": [
    "slownik = {\"klucz\":\"wartosc\",3:5}\n",
    "slownik"
   ]
  },
  {
   "cell_type": "code",
   "execution_count": 15,
   "metadata": {},
   "outputs": [
    {
     "name": "stdout",
     "output_type": "stream",
     "text": [
      "x wynosi teraz: 0\n",
      "x wynosi teraz: 1\n",
      "x wynosi teraz: 2\n"
     ]
    }
   ],
   "source": [
    "for x in range (0,3):\n",
    "    print(\"x wynosi teraz: %d\" % (x))"
   ]
  },
  {
   "cell_type": "code",
   "execution_count": 13,
   "metadata": {},
   "outputs": [
    {
     "name": "stdout",
     "output_type": "stream",
     "text": [
      "x wynosi teraz: 2\n",
      "x wynosi teraz: fajnie\n",
      "x wynosi teraz: infoShare\n"
     ]
    }
   ],
   "source": [
    "for x in lista:\n",
    "    print(\"x wynosi teraz: {}\".format(x))"
   ]
  },
  {
   "cell_type": "code",
   "execution_count": 16,
   "metadata": {},
   "outputs": [],
   "source": [
    "def sumator(x, y):\n",
    "    return x + y"
   ]
  },
  {
   "cell_type": "code",
   "execution_count": 19,
   "metadata": {},
   "outputs": [
    {
     "name": "stdout",
     "output_type": "stream",
     "text": [
      "wynik sumy 0 i 0 wynosi: 0\n",
      "wynik sumy 0 i 1 wynosi: 1\n",
      "wynik sumy 0 i 2 wynosi: 2\n",
      "wynik sumy 0 i 3 wynosi: 3\n",
      "wynik sumy 0 i 4 wynosi: 4\n",
      "wynik sumy 0 i 5 wynosi: 5\n",
      "wynik sumy 0 i 6 wynosi: 6\n",
      "wynik sumy 0 i 7 wynosi: 7\n",
      "wynik sumy 0 i 8 wynosi: 8\n",
      "wynik sumy 0 i 9 wynosi: 9\n",
      "wynik sumy 0 i 10 wynosi: 10\n",
      "wynik sumy 1 i 0 wynosi: 1\n",
      "wynik sumy 1 i 1 wynosi: 2\n",
      "wynik sumy 1 i 2 wynosi: 3\n",
      "wynik sumy 1 i 3 wynosi: 4\n",
      "wynik sumy 1 i 4 wynosi: 5\n",
      "wynik sumy 1 i 5 wynosi: 6\n",
      "wynik sumy 1 i 6 wynosi: 7\n",
      "wynik sumy 1 i 7 wynosi: 8\n",
      "wynik sumy 1 i 8 wynosi: 9\n",
      "wynik sumy 1 i 9 wynosi: 10\n",
      "wynik sumy 1 i 10 wynosi: 11\n",
      "wynik sumy 2 i 0 wynosi: 2\n",
      "wynik sumy 2 i 1 wynosi: 3\n",
      "wynik sumy 2 i 2 wynosi: 4\n",
      "wynik sumy 2 i 3 wynosi: 5\n",
      "wynik sumy 2 i 4 wynosi: 6\n",
      "wynik sumy 2 i 5 wynosi: 7\n",
      "wynik sumy 2 i 6 wynosi: 8\n",
      "wynik sumy 2 i 7 wynosi: 9\n",
      "wynik sumy 2 i 8 wynosi: 10\n",
      "wynik sumy 2 i 9 wynosi: 11\n",
      "wynik sumy 2 i 10 wynosi: 12\n",
      "wynik sumy 3 i 0 wynosi: 3\n",
      "wynik sumy 3 i 1 wynosi: 4\n",
      "wynik sumy 3 i 2 wynosi: 5\n",
      "wynik sumy 3 i 3 wynosi: 6\n",
      "wynik sumy 3 i 4 wynosi: 7\n",
      "wynik sumy 3 i 5 wynosi: 8\n",
      "wynik sumy 3 i 6 wynosi: 9\n",
      "wynik sumy 3 i 7 wynosi: 10\n",
      "wynik sumy 3 i 8 wynosi: 11\n",
      "wynik sumy 3 i 9 wynosi: 12\n",
      "wynik sumy 3 i 10 wynosi: 13\n",
      "wynik sumy 4 i 0 wynosi: 4\n",
      "wynik sumy 4 i 1 wynosi: 5\n",
      "wynik sumy 4 i 2 wynosi: 6\n",
      "wynik sumy 4 i 3 wynosi: 7\n",
      "wynik sumy 4 i 4 wynosi: 8\n",
      "wynik sumy 4 i 5 wynosi: 9\n",
      "wynik sumy 4 i 6 wynosi: 10\n",
      "wynik sumy 4 i 7 wynosi: 11\n",
      "wynik sumy 4 i 8 wynosi: 12\n",
      "wynik sumy 4 i 9 wynosi: 13\n",
      "wynik sumy 4 i 10 wynosi: 14\n",
      "wynik sumy 5 i 0 wynosi: 5\n",
      "wynik sumy 5 i 1 wynosi: 6\n",
      "wynik sumy 5 i 2 wynosi: 7\n",
      "wynik sumy 5 i 3 wynosi: 8\n",
      "wynik sumy 5 i 4 wynosi: 9\n",
      "wynik sumy 5 i 5 wynosi: 10\n",
      "wynik sumy 5 i 6 wynosi: 11\n",
      "wynik sumy 5 i 7 wynosi: 12\n",
      "wynik sumy 5 i 8 wynosi: 13\n",
      "wynik sumy 5 i 9 wynosi: 14\n",
      "wynik sumy 5 i 10 wynosi: 15\n",
      "wynik sumy 6 i 0 wynosi: 6\n",
      "wynik sumy 6 i 1 wynosi: 7\n",
      "wynik sumy 6 i 2 wynosi: 8\n",
      "wynik sumy 6 i 3 wynosi: 9\n",
      "wynik sumy 6 i 4 wynosi: 10\n",
      "wynik sumy 6 i 5 wynosi: 11\n",
      "wynik sumy 6 i 6 wynosi: 12\n",
      "wynik sumy 6 i 7 wynosi: 13\n",
      "wynik sumy 6 i 8 wynosi: 14\n",
      "wynik sumy 6 i 9 wynosi: 15\n",
      "wynik sumy 6 i 10 wynosi: 16\n",
      "wynik sumy 7 i 0 wynosi: 7\n",
      "wynik sumy 7 i 1 wynosi: 8\n",
      "wynik sumy 7 i 2 wynosi: 9\n",
      "wynik sumy 7 i 3 wynosi: 10\n",
      "wynik sumy 7 i 4 wynosi: 11\n",
      "wynik sumy 7 i 5 wynosi: 12\n",
      "wynik sumy 7 i 6 wynosi: 13\n",
      "wynik sumy 7 i 7 wynosi: 14\n",
      "wynik sumy 7 i 8 wynosi: 15\n",
      "wynik sumy 7 i 9 wynosi: 16\n",
      "wynik sumy 7 i 10 wynosi: 17\n",
      "wynik sumy 8 i 0 wynosi: 8\n",
      "wynik sumy 8 i 1 wynosi: 9\n",
      "wynik sumy 8 i 2 wynosi: 10\n",
      "wynik sumy 8 i 3 wynosi: 11\n",
      "wynik sumy 8 i 4 wynosi: 12\n",
      "wynik sumy 8 i 5 wynosi: 13\n",
      "wynik sumy 8 i 6 wynosi: 14\n",
      "wynik sumy 8 i 7 wynosi: 15\n",
      "wynik sumy 8 i 8 wynosi: 16\n",
      "wynik sumy 8 i 9 wynosi: 17\n",
      "wynik sumy 8 i 10 wynosi: 18\n",
      "wynik sumy 9 i 0 wynosi: 9\n",
      "wynik sumy 9 i 1 wynosi: 10\n",
      "wynik sumy 9 i 2 wynosi: 11\n",
      "wynik sumy 9 i 3 wynosi: 12\n",
      "wynik sumy 9 i 4 wynosi: 13\n",
      "wynik sumy 9 i 5 wynosi: 14\n",
      "wynik sumy 9 i 6 wynosi: 15\n",
      "wynik sumy 9 i 7 wynosi: 16\n",
      "wynik sumy 9 i 8 wynosi: 17\n",
      "wynik sumy 9 i 9 wynosi: 18\n",
      "wynik sumy 9 i 10 wynosi: 19\n",
      "wynik sumy 10 i 0 wynosi: 10\n",
      "wynik sumy 10 i 1 wynosi: 11\n",
      "wynik sumy 10 i 2 wynosi: 12\n",
      "wynik sumy 10 i 3 wynosi: 13\n",
      "wynik sumy 10 i 4 wynosi: 14\n",
      "wynik sumy 10 i 5 wynosi: 15\n",
      "wynik sumy 10 i 6 wynosi: 16\n",
      "wynik sumy 10 i 7 wynosi: 17\n",
      "wynik sumy 10 i 8 wynosi: 18\n",
      "wynik sumy 10 i 9 wynosi: 19\n",
      "wynik sumy 10 i 10 wynosi: 20\n"
     ]
    }
   ],
   "source": [
    "for x in range(0, 11):\n",
    "   for y in range (0,11):\n",
    "       print(\"wynik sumy {} i {} wynosi: {}\".format(x,y,sumator(x,y)))"
   ]
  },
  {
   "cell_type": "markdown",
   "metadata": {},
   "source": [
    "# super\n",
    "## trudnie\n",
    "* cos\n",
    "1. Test\n",
    "$$ \\sqrt5 $$ \n",
    "$ \\sqrt4 $"
   ]
  },
  {
   "cell_type": "code",
   "execution_count": 21,
   "metadata": {},
   "outputs": [
    {
     "name": "stdout",
     "output_type": "stream",
     "text": [
      "x wynosi: 0\n",
      "x wynosi: 1\n",
      "x wynosi: 2\n"
     ]
    }
   ],
   "source": [
    "for x in range (0,3):\n",
    "    print(\"x wynosi: {}\".format(x))\n"
   ]
  },
  {
   "cell_type": "code",
   "execution_count": 22,
   "metadata": {},
   "outputs": [
    {
     "name": "stdout",
     "output_type": "stream",
     "text": [
      "x wy2nosi: \n",
      "x wyfajnienosi: \n",
      "x wyinfoSharenosi: \n"
     ]
    }
   ],
   "source": [
    "for x in lista:\n",
    "    print(\"x wy{}nosi: \".format(x))"
   ]
  },
  {
   "cell_type": "code",
   "execution_count": 24,
   "metadata": {},
   "outputs": [
    {
     "name": "stdout",
     "output_type": "stream",
     "text": [
      "7\n"
     ]
    }
   ],
   "source": [
    "x = 7\n",
    "print(x)"
   ]
  },
  {
   "cell_type": "code",
   "execution_count": 25,
   "metadata": {},
   "outputs": [],
   "source": [
    "def dodaj_jeden(y):\n",
    "    y = y + 1\n",
    "    return y"
   ]
  },
  {
   "cell_type": "code",
   "execution_count": 26,
   "metadata": {},
   "outputs": [
    {
     "data": {
      "text/plain": [
       "8"
      ]
     },
     "execution_count": 26,
     "metadata": {},
     "output_type": "execute_result"
    }
   ],
   "source": [
    "dodaj_jeden(x)"
   ]
  },
  {
   "cell_type": "code",
   "execution_count": 1,
   "metadata": {},
   "outputs": [],
   "source": [
    "zamowienie = {\n",
    "    'Marta' : {'paczki':4, 'brownie':3, 'paczki': 2}\n",
    "}"
   ]
  },
  {
   "cell_type": "code",
   "execution_count": 2,
   "metadata": {},
   "outputs": [
    {
     "data": {
      "text/plain": [
       "{'Marta': {'paczki': 2, 'brownie': 3}}"
      ]
     },
     "execution_count": 2,
     "metadata": {},
     "output_type": "execute_result"
    }
   ],
   "source": [
    "zamowienie"
   ]
  },
  {
   "cell_type": "code",
   "execution_count": 7,
   "metadata": {},
   "outputs": [],
   "source": [
    "b = [2,4,5]"
   ]
  },
  {
   "cell_type": "code",
   "execution_count": 8,
   "metadata": {},
   "outputs": [],
   "source": [
    "x = b"
   ]
  },
  {
   "cell_type": "code",
   "execution_count": 10,
   "metadata": {},
   "outputs": [],
   "source": [
    "x = b[:]"
   ]
  },
  {
   "cell_type": "code",
   "execution_count": 11,
   "metadata": {},
   "outputs": [
    {
     "data": {
      "text/plain": [
       "[2, 4, 5]"
      ]
     },
     "execution_count": 11,
     "metadata": {},
     "output_type": "execute_result"
    }
   ],
   "source": [
    "x"
   ]
  },
  {
   "cell_type": "code",
   "execution_count": null,
   "metadata": {},
   "outputs": [],
   "source": []
  }
 ],
 "metadata": {
  "kernelspec": {
   "display_name": "Python 3",
   "language": "python",
   "name": "python3"
  },
  "language_info": {
   "codemirror_mode": {
    "name": "ipython",
    "version": 3
   },
   "file_extension": ".py",
   "mimetype": "text/x-python",
   "name": "python",
   "nbconvert_exporter": "python",
   "pygments_lexer": "ipython3",
   "version": "3.6.4"
  }
 },
 "nbformat": 4,
 "nbformat_minor": 2
}
